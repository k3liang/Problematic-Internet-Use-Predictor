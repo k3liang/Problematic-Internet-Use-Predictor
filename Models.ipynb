{
 "cells": [
  {
   "cell_type": "code",
   "execution_count": null,
   "metadata": {
    "id": "aQgMsRTH2G2Y"
   },
   "outputs": [],
   "source": [
    "\n",
    "import pandas as pd\n",
    "import numpy as np\n",
    "import zipfile\n",
    "\n",
    "\n",
    "df= pd.read_csv('/content/processed_data.csv')\n",
    "\n",
    "\n",
    "from sklearn.model_selection import train_test_split, cross_val_score\n",
    "\n",
    "from sklearn.linear_model import LinearRegression\n",
    "from sklearn.linear_model import Ridge\n",
    "from sklearn.linear_model import Lasso\n",
    "from sklearn.metrics import mean_squared_error\n",
    "from statistics import mean\n",
    "\n",
    "\n",
    "\n",
    "\n",
    "columns = df.columns.tolist()\n",
    "columns.remove('sii')\n",
    "columns.remove('id')\n",
    "\n",
    "\n",
    "#splitting dataset into X and y\n",
    "X = df[columns]\n",
    "y = df['sii']\n",
    "\n",
    "\n",
    "#splitting dataset on convetional 80%, 20% train test split\n",
    "X_train, X_test, y_train, y_test = train_test_split(X, y, test_size=0.2, random_state=0)\n",
    "\n",
    "\n"
   ]
  },
  {
   "cell_type": "code",
   "execution_count": null,
   "metadata": {
    "colab": {
     "base_uri": "https://localhost:8080/"
    },
    "id": "2moMARDd2Ltb",
    "outputId": "ce5553c7-833d-432f-ee5b-9a1f4a270539"
   },
   "outputs": [
    {
     "name": "stdout",
     "output_type": "stream",
     "text": [
      "Training score: 0.3686945082115627\n",
      "Test score: 0.22970465538613194\n",
      "0.19945147315894798\n"
     ]
    }
   ],
   "source": [
    "#Linear Regression Model\n",
    "lr_model = LinearRegression()\n",
    "lr_model.fit(X_train, y_train)\n",
    "\n",
    "\n",
    "print('Training score: {}'.format(lr_model.score(X_train, y_train)))\n",
    "\n",
    "print('Test score: {}'.format(lr_model.score(X_test, y_test)))\n",
    "\n",
    "#predicting\n",
    "y_pred = lr_model.predict(X_test)\n",
    "\n",
    "#reporting mse\n",
    "mse = mean_squared_error(y_test, y_pred)\n",
    "\n",
    "print(mse)\n"
   ]
  },
  {
   "cell_type": "code",
   "execution_count": null,
   "metadata": {
    "colab": {
     "base_uri": "https://localhost:8080/"
    },
    "id": "wC9n7MkA2On1",
    "outputId": "5a651b3f-fe67-4908-b144-632d00b7ddda"
   },
   "outputs": [
    {
     "name": "stdout",
     "output_type": "stream",
     "text": [
      "alpha_ridge 0.99 crossval 27.826609439588008\n",
      "alpha_lasso 0.01 crossval 29.728104204913937\n"
     ]
    }
   ],
   "source": [
    "\n",
    "\n",
    "\n",
    "# List to maintain the different values of alpha for ridge regularization\n",
    "alpha_ridge = []\n",
    "\n",
    "# List to maintain the different cross vals for each alpha\n",
    "cross_val_scores_ridge = []\n",
    "\n",
    "# Loop to compute the different values of cross-validation scores\n",
    "for i in range(1, 10**2):\n",
    "    ridgeModel = Ridge(alpha = i * 0.01)\n",
    "    ridgeModel.fit(X_train, y_train)\n",
    "    scores = cross_val_score(ridgeModel, X, y, cv = 10)\n",
    "    avg_cross_val_score = mean(scores)*100\n",
    "    cross_val_scores_ridge.append(avg_cross_val_score)\n",
    "    alpha_ridge.append(i * 0.01)\n",
    "\n",
    "\n",
    "\n",
    "# List to maintain the different values of alpha for lasso regularization\n",
    "alpha_lasso = []\n",
    "\n",
    "# List to maintain the different cross vals for each alpha\n",
    "cross_val_scores_lasso = []\n",
    "\n",
    "# Loop to compute the different values of cross-validation scores\n",
    "for i in range(1, 10**2):\n",
    "    lassoModel = Lasso(alpha = i * 0.01)\n",
    "    lassoModel.fit(X_train, y_train)\n",
    "    scores = cross_val_score(lassoModel, X, y, cv = 10)\n",
    "    avg_cross_val_score = mean(scores)*100\n",
    "    cross_val_scores_lasso.append(avg_cross_val_score)\n",
    "    alpha_lasso.append(i * 0.01)\n",
    "\n",
    "\n",
    "#grabbing index of alpha with highest cross val\n",
    "best_alpha_ridge_i = cross_val_scores_ridge.index(max(cross_val_scores_ridge))\n",
    "best_alpha_lasso_i = cross_val_scores_lasso.index(max(cross_val_scores_lasso))\n",
    "\n",
    "#printing best alpha along with its cross val value\n",
    "print(\"alpha_ridge\", alpha_ridge[best_alpha_ridge_i], \"crossval\", cross_val_scores_ridge[best_alpha_ridge_i])\n",
    "print(\"alpha_lasso\", alpha_lasso[best_alpha_lasso_i], \"crossval\", cross_val_scores_lasso[best_alpha_lasso_i])"
   ]
  }
 ],
 "metadata": {
  "colab": {
   "provenance": []
  },
  "kernelspec": {
   "display_name": "Python 3 (ipykernel)",
   "language": "python",
   "name": "python3"
  },
  "language_info": {
   "codemirror_mode": {
    "name": "ipython",
    "version": 3
   },
   "file_extension": ".py",
   "mimetype": "text/x-python",
   "name": "python",
   "nbconvert_exporter": "python",
   "pygments_lexer": "ipython3",
   "version": "3.12.3"
  }
 },
 "nbformat": 4,
 "nbformat_minor": 4
}
