{
  "cells": [
    {
      "cell_type": "code",
      "execution_count": 2,
      "id": "aec03c47-737d-4701-a301-9667761b0799",
      "metadata": {
        "id": "aec03c47-737d-4701-a301-9667761b0799"
      },
      "outputs": [],
      "source": [
        "import pandas as pd\n",
        "import numpy as np\n",
        "import matplotlib.pyplot as plt\n",
        "\n",
        "from sklearn.model_selection import train_test_split, cross_val_score\n",
        "\n",
        "from sklearn.metrics import mean_squared_error\n",
        "from statistics import mean"
      ]
    },
    {
      "cell_type": "code",
      "execution_count": null,
      "id": "fa026db3-6236-4612-86a8-21da1c74c58c",
      "metadata": {
        "id": "fa026db3-6236-4612-86a8-21da1c74c58c"
      },
      "outputs": [],
      "source": [
        "dfTrain = pd.read_csv('content/dataTrain.csv')\n",
        "dfTest = pd.read_csv('content/dataTest.csv')\n",
        "#dfTrain = pd.read_csv('dataTrain.csv')\n",
        "#dfTest = pd.read_csv('dataTest.csv')\n",
        "print(dfTrain.shape)\n",
        "print(dfTest.shape)"
      ]
    },
    {
      "cell_type": "code",
      "execution_count": 5,
      "id": "59d075c3-8b90-4a9e-bd14-3172cae10074",
      "metadata": {
        "colab": {
          "base_uri": "https://localhost:8080/",
          "height": 508
        },
        "id": "59d075c3-8b90-4a9e-bd14-3172cae10074",
        "outputId": "728d2755-0480-4630-acaf-f339a497b721"
      },
      "outputs": [
        {
          "output_type": "display_data",
          "data": {
            "text/plain": [
              "         id  Basic_Demos-Age  Basic_Demos-Sex  CGAS-CGAS_Score  Physical-BMI  \\\n",
              "0  c446e1c5         0.588235                1         0.214286      0.506098   \n",
              "1  1e7dd854         0.352941                1         0.642857      0.347868   \n",
              "2  c30f5122         0.705882                0         0.642857      0.438162   \n",
              "3  c9537127         0.294118                0         0.500000      0.435950   \n",
              "4  1ccf44f0         0.235294                1         0.600000      0.776176   \n",
              "\n",
              "   Physical-Height  Physical-Weight  Physical-Waist_Circumference  \\\n",
              "0         0.573171         0.371534                      0.208333   \n",
              "1         0.426829         0.191312                      0.291667   \n",
              "2         0.780488         0.474122                      0.291667   \n",
              "3         0.591463         0.339187                      0.416667   \n",
              "4         0.548780         0.519409                      0.500000   \n",
              "\n",
              "   Physical-Diastolic_BP  Physical-HeartRate  ...  PCIAT-Season_Summer  \\\n",
              "0               0.582278            0.465347  ...                  1.0   \n",
              "1               0.379747            0.554455  ...                  0.0   \n",
              "2               0.632911            0.534653  ...                  0.0   \n",
              "3               0.303797            0.534653  ...                  0.0   \n",
              "4               0.392405            0.712871  ...                  0.0   \n",
              "\n",
              "   PCIAT-Season_Winter  SDS-Season_Fall  SDS-Season_Spring  SDS-Season_Summer  \\\n",
              "0                  0.0              0.0                0.0                1.0   \n",
              "1                  0.0              0.0                1.0                0.0   \n",
              "2                  1.0              0.0                0.0                0.0   \n",
              "3                  1.0              0.0                0.0                0.0   \n",
              "4                  1.0              0.0                0.0                0.0   \n",
              "\n",
              "   SDS-Season_Winter  PreInt_EduHx-Season_Fall  PreInt_EduHx-Season_Spring  \\\n",
              "0                0.0                       0.0                         0.0   \n",
              "1                0.0                       0.0                         1.0   \n",
              "2                1.0                       0.0                         0.0   \n",
              "3                1.0                       0.0                         0.0   \n",
              "4                1.0                       1.0                         0.0   \n",
              "\n",
              "   PreInt_EduHx-Season_Summer  PreInt_EduHx-Season_Winter  \n",
              "0                         1.0                         0.0  \n",
              "1                         0.0                         0.0  \n",
              "2                         0.0                         1.0  \n",
              "3                         0.0                         1.0  \n",
              "4                         0.0                         0.0  \n",
              "\n",
              "[5 rows x 107 columns]"
            ],
            "text/html": [
              "\n",
              "  <div id=\"df-32261383-9414-4e80-b655-fca2a2ac0d37\" class=\"colab-df-container\">\n",
              "    <div>\n",
              "<style scoped>\n",
              "    .dataframe tbody tr th:only-of-type {\n",
              "        vertical-align: middle;\n",
              "    }\n",
              "\n",
              "    .dataframe tbody tr th {\n",
              "        vertical-align: top;\n",
              "    }\n",
              "\n",
              "    .dataframe thead th {\n",
              "        text-align: right;\n",
              "    }\n",
              "</style>\n",
              "<table border=\"1\" class=\"dataframe\">\n",
              "  <thead>\n",
              "    <tr style=\"text-align: right;\">\n",
              "      <th></th>\n",
              "      <th>id</th>\n",
              "      <th>Basic_Demos-Age</th>\n",
              "      <th>Basic_Demos-Sex</th>\n",
              "      <th>CGAS-CGAS_Score</th>\n",
              "      <th>Physical-BMI</th>\n",
              "      <th>Physical-Height</th>\n",
              "      <th>Physical-Weight</th>\n",
              "      <th>Physical-Waist_Circumference</th>\n",
              "      <th>Physical-Diastolic_BP</th>\n",
              "      <th>Physical-HeartRate</th>\n",
              "      <th>...</th>\n",
              "      <th>PCIAT-Season_Summer</th>\n",
              "      <th>PCIAT-Season_Winter</th>\n",
              "      <th>SDS-Season_Fall</th>\n",
              "      <th>SDS-Season_Spring</th>\n",
              "      <th>SDS-Season_Summer</th>\n",
              "      <th>SDS-Season_Winter</th>\n",
              "      <th>PreInt_EduHx-Season_Fall</th>\n",
              "      <th>PreInt_EduHx-Season_Spring</th>\n",
              "      <th>PreInt_EduHx-Season_Summer</th>\n",
              "      <th>PreInt_EduHx-Season_Winter</th>\n",
              "    </tr>\n",
              "  </thead>\n",
              "  <tbody>\n",
              "    <tr>\n",
              "      <th>0</th>\n",
              "      <td>c446e1c5</td>\n",
              "      <td>0.588235</td>\n",
              "      <td>1</td>\n",
              "      <td>0.214286</td>\n",
              "      <td>0.506098</td>\n",
              "      <td>0.573171</td>\n",
              "      <td>0.371534</td>\n",
              "      <td>0.208333</td>\n",
              "      <td>0.582278</td>\n",
              "      <td>0.465347</td>\n",
              "      <td>...</td>\n",
              "      <td>1.0</td>\n",
              "      <td>0.0</td>\n",
              "      <td>0.0</td>\n",
              "      <td>0.0</td>\n",
              "      <td>1.0</td>\n",
              "      <td>0.0</td>\n",
              "      <td>0.0</td>\n",
              "      <td>0.0</td>\n",
              "      <td>1.0</td>\n",
              "      <td>0.0</td>\n",
              "    </tr>\n",
              "    <tr>\n",
              "      <th>1</th>\n",
              "      <td>1e7dd854</td>\n",
              "      <td>0.352941</td>\n",
              "      <td>1</td>\n",
              "      <td>0.642857</td>\n",
              "      <td>0.347868</td>\n",
              "      <td>0.426829</td>\n",
              "      <td>0.191312</td>\n",
              "      <td>0.291667</td>\n",
              "      <td>0.379747</td>\n",
              "      <td>0.554455</td>\n",
              "      <td>...</td>\n",
              "      <td>0.0</td>\n",
              "      <td>0.0</td>\n",
              "      <td>0.0</td>\n",
              "      <td>1.0</td>\n",
              "      <td>0.0</td>\n",
              "      <td>0.0</td>\n",
              "      <td>0.0</td>\n",
              "      <td>1.0</td>\n",
              "      <td>0.0</td>\n",
              "      <td>0.0</td>\n",
              "    </tr>\n",
              "    <tr>\n",
              "      <th>2</th>\n",
              "      <td>c30f5122</td>\n",
              "      <td>0.705882</td>\n",
              "      <td>0</td>\n",
              "      <td>0.642857</td>\n",
              "      <td>0.438162</td>\n",
              "      <td>0.780488</td>\n",
              "      <td>0.474122</td>\n",
              "      <td>0.291667</td>\n",
              "      <td>0.632911</td>\n",
              "      <td>0.534653</td>\n",
              "      <td>...</td>\n",
              "      <td>0.0</td>\n",
              "      <td>1.0</td>\n",
              "      <td>0.0</td>\n",
              "      <td>0.0</td>\n",
              "      <td>0.0</td>\n",
              "      <td>1.0</td>\n",
              "      <td>0.0</td>\n",
              "      <td>0.0</td>\n",
              "      <td>0.0</td>\n",
              "      <td>1.0</td>\n",
              "    </tr>\n",
              "    <tr>\n",
              "      <th>3</th>\n",
              "      <td>c9537127</td>\n",
              "      <td>0.294118</td>\n",
              "      <td>0</td>\n",
              "      <td>0.500000</td>\n",
              "      <td>0.435950</td>\n",
              "      <td>0.591463</td>\n",
              "      <td>0.339187</td>\n",
              "      <td>0.416667</td>\n",
              "      <td>0.303797</td>\n",
              "      <td>0.534653</td>\n",
              "      <td>...</td>\n",
              "      <td>0.0</td>\n",
              "      <td>1.0</td>\n",
              "      <td>0.0</td>\n",
              "      <td>0.0</td>\n",
              "      <td>0.0</td>\n",
              "      <td>1.0</td>\n",
              "      <td>0.0</td>\n",
              "      <td>0.0</td>\n",
              "      <td>0.0</td>\n",
              "      <td>1.0</td>\n",
              "    </tr>\n",
              "    <tr>\n",
              "      <th>4</th>\n",
              "      <td>1ccf44f0</td>\n",
              "      <td>0.235294</td>\n",
              "      <td>1</td>\n",
              "      <td>0.600000</td>\n",
              "      <td>0.776176</td>\n",
              "      <td>0.548780</td>\n",
              "      <td>0.519409</td>\n",
              "      <td>0.500000</td>\n",
              "      <td>0.392405</td>\n",
              "      <td>0.712871</td>\n",
              "      <td>...</td>\n",
              "      <td>0.0</td>\n",
              "      <td>1.0</td>\n",
              "      <td>0.0</td>\n",
              "      <td>0.0</td>\n",
              "      <td>0.0</td>\n",
              "      <td>1.0</td>\n",
              "      <td>1.0</td>\n",
              "      <td>0.0</td>\n",
              "      <td>0.0</td>\n",
              "      <td>0.0</td>\n",
              "    </tr>\n",
              "  </tbody>\n",
              "</table>\n",
              "<p>5 rows × 107 columns</p>\n",
              "</div>\n",
              "    <div class=\"colab-df-buttons\">\n",
              "\n",
              "  <div class=\"colab-df-container\">\n",
              "    <button class=\"colab-df-convert\" onclick=\"convertToInteractive('df-32261383-9414-4e80-b655-fca2a2ac0d37')\"\n",
              "            title=\"Convert this dataframe to an interactive table.\"\n",
              "            style=\"display:none;\">\n",
              "\n",
              "  <svg xmlns=\"http://www.w3.org/2000/svg\" height=\"24px\" viewBox=\"0 -960 960 960\">\n",
              "    <path d=\"M120-120v-720h720v720H120Zm60-500h600v-160H180v160Zm220 220h160v-160H400v160Zm0 220h160v-160H400v160ZM180-400h160v-160H180v160Zm440 0h160v-160H620v160ZM180-180h160v-160H180v160Zm440 0h160v-160H620v160Z\"/>\n",
              "  </svg>\n",
              "    </button>\n",
              "\n",
              "  <style>\n",
              "    .colab-df-container {\n",
              "      display:flex;\n",
              "      gap: 12px;\n",
              "    }\n",
              "\n",
              "    .colab-df-convert {\n",
              "      background-color: #E8F0FE;\n",
              "      border: none;\n",
              "      border-radius: 50%;\n",
              "      cursor: pointer;\n",
              "      display: none;\n",
              "      fill: #1967D2;\n",
              "      height: 32px;\n",
              "      padding: 0 0 0 0;\n",
              "      width: 32px;\n",
              "    }\n",
              "\n",
              "    .colab-df-convert:hover {\n",
              "      background-color: #E2EBFA;\n",
              "      box-shadow: 0px 1px 2px rgba(60, 64, 67, 0.3), 0px 1px 3px 1px rgba(60, 64, 67, 0.15);\n",
              "      fill: #174EA6;\n",
              "    }\n",
              "\n",
              "    .colab-df-buttons div {\n",
              "      margin-bottom: 4px;\n",
              "    }\n",
              "\n",
              "    [theme=dark] .colab-df-convert {\n",
              "      background-color: #3B4455;\n",
              "      fill: #D2E3FC;\n",
              "    }\n",
              "\n",
              "    [theme=dark] .colab-df-convert:hover {\n",
              "      background-color: #434B5C;\n",
              "      box-shadow: 0px 1px 3px 1px rgba(0, 0, 0, 0.15);\n",
              "      filter: drop-shadow(0px 1px 2px rgba(0, 0, 0, 0.3));\n",
              "      fill: #FFFFFF;\n",
              "    }\n",
              "  </style>\n",
              "\n",
              "    <script>\n",
              "      const buttonEl =\n",
              "        document.querySelector('#df-32261383-9414-4e80-b655-fca2a2ac0d37 button.colab-df-convert');\n",
              "      buttonEl.style.display =\n",
              "        google.colab.kernel.accessAllowed ? 'block' : 'none';\n",
              "\n",
              "      async function convertToInteractive(key) {\n",
              "        const element = document.querySelector('#df-32261383-9414-4e80-b655-fca2a2ac0d37');\n",
              "        const dataTable =\n",
              "          await google.colab.kernel.invokeFunction('convertToInteractive',\n",
              "                                                    [key], {});\n",
              "        if (!dataTable) return;\n",
              "\n",
              "        const docLinkHtml = 'Like what you see? Visit the ' +\n",
              "          '<a target=\"_blank\" href=https://colab.research.google.com/notebooks/data_table.ipynb>data table notebook</a>'\n",
              "          + ' to learn more about interactive tables.';\n",
              "        element.innerHTML = '';\n",
              "        dataTable['output_type'] = 'display_data';\n",
              "        await google.colab.output.renderOutput(dataTable, element);\n",
              "        const docLink = document.createElement('div');\n",
              "        docLink.innerHTML = docLinkHtml;\n",
              "        element.appendChild(docLink);\n",
              "      }\n",
              "    </script>\n",
              "  </div>\n",
              "\n",
              "\n",
              "<div id=\"df-0236bc7f-1833-4bae-97bf-839372641fc8\">\n",
              "  <button class=\"colab-df-quickchart\" onclick=\"quickchart('df-0236bc7f-1833-4bae-97bf-839372641fc8')\"\n",
              "            title=\"Suggest charts\"\n",
              "            style=\"display:none;\">\n",
              "\n",
              "<svg xmlns=\"http://www.w3.org/2000/svg\" height=\"24px\"viewBox=\"0 0 24 24\"\n",
              "     width=\"24px\">\n",
              "    <g>\n",
              "        <path d=\"M19 3H5c-1.1 0-2 .9-2 2v14c0 1.1.9 2 2 2h14c1.1 0 2-.9 2-2V5c0-1.1-.9-2-2-2zM9 17H7v-7h2v7zm4 0h-2V7h2v10zm4 0h-2v-4h2v4z\"/>\n",
              "    </g>\n",
              "</svg>\n",
              "  </button>\n",
              "\n",
              "<style>\n",
              "  .colab-df-quickchart {\n",
              "      --bg-color: #E8F0FE;\n",
              "      --fill-color: #1967D2;\n",
              "      --hover-bg-color: #E2EBFA;\n",
              "      --hover-fill-color: #174EA6;\n",
              "      --disabled-fill-color: #AAA;\n",
              "      --disabled-bg-color: #DDD;\n",
              "  }\n",
              "\n",
              "  [theme=dark] .colab-df-quickchart {\n",
              "      --bg-color: #3B4455;\n",
              "      --fill-color: #D2E3FC;\n",
              "      --hover-bg-color: #434B5C;\n",
              "      --hover-fill-color: #FFFFFF;\n",
              "      --disabled-bg-color: #3B4455;\n",
              "      --disabled-fill-color: #666;\n",
              "  }\n",
              "\n",
              "  .colab-df-quickchart {\n",
              "    background-color: var(--bg-color);\n",
              "    border: none;\n",
              "    border-radius: 50%;\n",
              "    cursor: pointer;\n",
              "    display: none;\n",
              "    fill: var(--fill-color);\n",
              "    height: 32px;\n",
              "    padding: 0;\n",
              "    width: 32px;\n",
              "  }\n",
              "\n",
              "  .colab-df-quickchart:hover {\n",
              "    background-color: var(--hover-bg-color);\n",
              "    box-shadow: 0 1px 2px rgba(60, 64, 67, 0.3), 0 1px 3px 1px rgba(60, 64, 67, 0.15);\n",
              "    fill: var(--button-hover-fill-color);\n",
              "  }\n",
              "\n",
              "  .colab-df-quickchart-complete:disabled,\n",
              "  .colab-df-quickchart-complete:disabled:hover {\n",
              "    background-color: var(--disabled-bg-color);\n",
              "    fill: var(--disabled-fill-color);\n",
              "    box-shadow: none;\n",
              "  }\n",
              "\n",
              "  .colab-df-spinner {\n",
              "    border: 2px solid var(--fill-color);\n",
              "    border-color: transparent;\n",
              "    border-bottom-color: var(--fill-color);\n",
              "    animation:\n",
              "      spin 1s steps(1) infinite;\n",
              "  }\n",
              "\n",
              "  @keyframes spin {\n",
              "    0% {\n",
              "      border-color: transparent;\n",
              "      border-bottom-color: var(--fill-color);\n",
              "      border-left-color: var(--fill-color);\n",
              "    }\n",
              "    20% {\n",
              "      border-color: transparent;\n",
              "      border-left-color: var(--fill-color);\n",
              "      border-top-color: var(--fill-color);\n",
              "    }\n",
              "    30% {\n",
              "      border-color: transparent;\n",
              "      border-left-color: var(--fill-color);\n",
              "      border-top-color: var(--fill-color);\n",
              "      border-right-color: var(--fill-color);\n",
              "    }\n",
              "    40% {\n",
              "      border-color: transparent;\n",
              "      border-right-color: var(--fill-color);\n",
              "      border-top-color: var(--fill-color);\n",
              "    }\n",
              "    60% {\n",
              "      border-color: transparent;\n",
              "      border-right-color: var(--fill-color);\n",
              "    }\n",
              "    80% {\n",
              "      border-color: transparent;\n",
              "      border-right-color: var(--fill-color);\n",
              "      border-bottom-color: var(--fill-color);\n",
              "    }\n",
              "    90% {\n",
              "      border-color: transparent;\n",
              "      border-bottom-color: var(--fill-color);\n",
              "    }\n",
              "  }\n",
              "</style>\n",
              "\n",
              "  <script>\n",
              "    async function quickchart(key) {\n",
              "      const quickchartButtonEl =\n",
              "        document.querySelector('#' + key + ' button');\n",
              "      quickchartButtonEl.disabled = true;  // To prevent multiple clicks.\n",
              "      quickchartButtonEl.classList.add('colab-df-spinner');\n",
              "      try {\n",
              "        const charts = await google.colab.kernel.invokeFunction(\n",
              "            'suggestCharts', [key], {});\n",
              "      } catch (error) {\n",
              "        console.error('Error during call to suggestCharts:', error);\n",
              "      }\n",
              "      quickchartButtonEl.classList.remove('colab-df-spinner');\n",
              "      quickchartButtonEl.classList.add('colab-df-quickchart-complete');\n",
              "    }\n",
              "    (() => {\n",
              "      let quickchartButtonEl =\n",
              "        document.querySelector('#df-0236bc7f-1833-4bae-97bf-839372641fc8 button');\n",
              "      quickchartButtonEl.style.display =\n",
              "        google.colab.kernel.accessAllowed ? 'block' : 'none';\n",
              "    })();\n",
              "  </script>\n",
              "</div>\n",
              "\n",
              "    </div>\n",
              "  </div>\n"
            ],
            "application/vnd.google.colaboratory.intrinsic+json": {
              "type": "dataframe"
            }
          },
          "metadata": {}
        },
        {
          "output_type": "display_data",
          "data": {
            "text/plain": [
              "         id  Basic_Demos-Age  Basic_Demos-Sex  CGAS-CGAS_Score  Physical-BMI  \\\n",
              "0  6c16a8f1         0.588235                1         0.468750      0.417437   \n",
              "1  82422684         0.352941                0         0.796875      0.253450   \n",
              "2  b41cee02         0.294118                1         0.531250      0.690470   \n",
              "3  3709416b         0.352941                0         0.687500      0.256847   \n",
              "4  2c86162c         0.411765                0         0.562500      0.418441   \n",
              "\n",
              "   Physical-Height  Physical-Weight  Physical-Waist_Circumference  \\\n",
              "0         0.371429         0.465498                      0.523810   \n",
              "1         0.814286         0.202489                      0.761905   \n",
              "2         0.485714         0.522624                      0.095238   \n",
              "3         0.257143         0.569005                      0.476190   \n",
              "4         0.542857         0.390271                      0.428571   \n",
              "\n",
              "   Physical-Diastolic_BP  Physical-HeartRate  ...  PCIAT-Season_Summer  \\\n",
              "0               0.392405            0.227848  ...                  0.0   \n",
              "1               0.215190            0.506329  ...                  1.0   \n",
              "2               0.481013            0.443038  ...                  0.0   \n",
              "3               0.455696            0.354430  ...                  1.0   \n",
              "4               0.670886            0.354430  ...                  1.0   \n",
              "\n",
              "   PCIAT-Season_Winter  SDS-Season_Fall  SDS-Season_Spring  SDS-Season_Summer  \\\n",
              "0                  0.0              0.0                1.0                0.0   \n",
              "1                  0.0              0.0                0.0                0.0   \n",
              "2                  1.0              0.0                0.0                0.0   \n",
              "3                  0.0              0.0                0.0                1.0   \n",
              "4                  0.0              0.0                0.0                0.0   \n",
              "\n",
              "   SDS-Season_Winter  PreInt_EduHx-Season_Fall  PreInt_EduHx-Season_Spring  \\\n",
              "0                0.0                       0.0                         1.0   \n",
              "1                1.0                       0.0                         1.0   \n",
              "2                1.0                       1.0                         0.0   \n",
              "3                0.0                       0.0                         0.0   \n",
              "4                1.0                       0.0                         0.0   \n",
              "\n",
              "   PreInt_EduHx-Season_Summer  PreInt_EduHx-Season_Winter  \n",
              "0                         0.0                         0.0  \n",
              "1                         0.0                         0.0  \n",
              "2                         0.0                         0.0  \n",
              "3                         1.0                         0.0  \n",
              "4                         1.0                         0.0  \n",
              "\n",
              "[5 rows x 107 columns]"
            ],
            "text/html": [
              "\n",
              "  <div id=\"df-9ed12efd-996c-48eb-8f0c-fa32ff14eefc\" class=\"colab-df-container\">\n",
              "    <div>\n",
              "<style scoped>\n",
              "    .dataframe tbody tr th:only-of-type {\n",
              "        vertical-align: middle;\n",
              "    }\n",
              "\n",
              "    .dataframe tbody tr th {\n",
              "        vertical-align: top;\n",
              "    }\n",
              "\n",
              "    .dataframe thead th {\n",
              "        text-align: right;\n",
              "    }\n",
              "</style>\n",
              "<table border=\"1\" class=\"dataframe\">\n",
              "  <thead>\n",
              "    <tr style=\"text-align: right;\">\n",
              "      <th></th>\n",
              "      <th>id</th>\n",
              "      <th>Basic_Demos-Age</th>\n",
              "      <th>Basic_Demos-Sex</th>\n",
              "      <th>CGAS-CGAS_Score</th>\n",
              "      <th>Physical-BMI</th>\n",
              "      <th>Physical-Height</th>\n",
              "      <th>Physical-Weight</th>\n",
              "      <th>Physical-Waist_Circumference</th>\n",
              "      <th>Physical-Diastolic_BP</th>\n",
              "      <th>Physical-HeartRate</th>\n",
              "      <th>...</th>\n",
              "      <th>PCIAT-Season_Summer</th>\n",
              "      <th>PCIAT-Season_Winter</th>\n",
              "      <th>SDS-Season_Fall</th>\n",
              "      <th>SDS-Season_Spring</th>\n",
              "      <th>SDS-Season_Summer</th>\n",
              "      <th>SDS-Season_Winter</th>\n",
              "      <th>PreInt_EduHx-Season_Fall</th>\n",
              "      <th>PreInt_EduHx-Season_Spring</th>\n",
              "      <th>PreInt_EduHx-Season_Summer</th>\n",
              "      <th>PreInt_EduHx-Season_Winter</th>\n",
              "    </tr>\n",
              "  </thead>\n",
              "  <tbody>\n",
              "    <tr>\n",
              "      <th>0</th>\n",
              "      <td>6c16a8f1</td>\n",
              "      <td>0.588235</td>\n",
              "      <td>1</td>\n",
              "      <td>0.468750</td>\n",
              "      <td>0.417437</td>\n",
              "      <td>0.371429</td>\n",
              "      <td>0.465498</td>\n",
              "      <td>0.523810</td>\n",
              "      <td>0.392405</td>\n",
              "      <td>0.227848</td>\n",
              "      <td>...</td>\n",
              "      <td>0.0</td>\n",
              "      <td>0.0</td>\n",
              "      <td>0.0</td>\n",
              "      <td>1.0</td>\n",
              "      <td>0.0</td>\n",
              "      <td>0.0</td>\n",
              "      <td>0.0</td>\n",
              "      <td>1.0</td>\n",
              "      <td>0.0</td>\n",
              "      <td>0.0</td>\n",
              "    </tr>\n",
              "    <tr>\n",
              "      <th>1</th>\n",
              "      <td>82422684</td>\n",
              "      <td>0.352941</td>\n",
              "      <td>0</td>\n",
              "      <td>0.796875</td>\n",
              "      <td>0.253450</td>\n",
              "      <td>0.814286</td>\n",
              "      <td>0.202489</td>\n",
              "      <td>0.761905</td>\n",
              "      <td>0.215190</td>\n",
              "      <td>0.506329</td>\n",
              "      <td>...</td>\n",
              "      <td>1.0</td>\n",
              "      <td>0.0</td>\n",
              "      <td>0.0</td>\n",
              "      <td>0.0</td>\n",
              "      <td>0.0</td>\n",
              "      <td>1.0</td>\n",
              "      <td>0.0</td>\n",
              "      <td>1.0</td>\n",
              "      <td>0.0</td>\n",
              "      <td>0.0</td>\n",
              "    </tr>\n",
              "    <tr>\n",
              "      <th>2</th>\n",
              "      <td>b41cee02</td>\n",
              "      <td>0.294118</td>\n",
              "      <td>1</td>\n",
              "      <td>0.531250</td>\n",
              "      <td>0.690470</td>\n",
              "      <td>0.485714</td>\n",
              "      <td>0.522624</td>\n",
              "      <td>0.095238</td>\n",
              "      <td>0.481013</td>\n",
              "      <td>0.443038</td>\n",
              "      <td>...</td>\n",
              "      <td>0.0</td>\n",
              "      <td>1.0</td>\n",
              "      <td>0.0</td>\n",
              "      <td>0.0</td>\n",
              "      <td>0.0</td>\n",
              "      <td>1.0</td>\n",
              "      <td>1.0</td>\n",
              "      <td>0.0</td>\n",
              "      <td>0.0</td>\n",
              "      <td>0.0</td>\n",
              "    </tr>\n",
              "    <tr>\n",
              "      <th>3</th>\n",
              "      <td>3709416b</td>\n",
              "      <td>0.352941</td>\n",
              "      <td>0</td>\n",
              "      <td>0.687500</td>\n",
              "      <td>0.256847</td>\n",
              "      <td>0.257143</td>\n",
              "      <td>0.569005</td>\n",
              "      <td>0.476190</td>\n",
              "      <td>0.455696</td>\n",
              "      <td>0.354430</td>\n",
              "      <td>...</td>\n",
              "      <td>1.0</td>\n",
              "      <td>0.0</td>\n",
              "      <td>0.0</td>\n",
              "      <td>0.0</td>\n",
              "      <td>1.0</td>\n",
              "      <td>0.0</td>\n",
              "      <td>0.0</td>\n",
              "      <td>0.0</td>\n",
              "      <td>1.0</td>\n",
              "      <td>0.0</td>\n",
              "    </tr>\n",
              "    <tr>\n",
              "      <th>4</th>\n",
              "      <td>2c86162c</td>\n",
              "      <td>0.411765</td>\n",
              "      <td>0</td>\n",
              "      <td>0.562500</td>\n",
              "      <td>0.418441</td>\n",
              "      <td>0.542857</td>\n",
              "      <td>0.390271</td>\n",
              "      <td>0.428571</td>\n",
              "      <td>0.670886</td>\n",
              "      <td>0.354430</td>\n",
              "      <td>...</td>\n",
              "      <td>1.0</td>\n",
              "      <td>0.0</td>\n",
              "      <td>0.0</td>\n",
              "      <td>0.0</td>\n",
              "      <td>0.0</td>\n",
              "      <td>1.0</td>\n",
              "      <td>0.0</td>\n",
              "      <td>0.0</td>\n",
              "      <td>1.0</td>\n",
              "      <td>0.0</td>\n",
              "    </tr>\n",
              "  </tbody>\n",
              "</table>\n",
              "<p>5 rows × 107 columns</p>\n",
              "</div>\n",
              "    <div class=\"colab-df-buttons\">\n",
              "\n",
              "  <div class=\"colab-df-container\">\n",
              "    <button class=\"colab-df-convert\" onclick=\"convertToInteractive('df-9ed12efd-996c-48eb-8f0c-fa32ff14eefc')\"\n",
              "            title=\"Convert this dataframe to an interactive table.\"\n",
              "            style=\"display:none;\">\n",
              "\n",
              "  <svg xmlns=\"http://www.w3.org/2000/svg\" height=\"24px\" viewBox=\"0 -960 960 960\">\n",
              "    <path d=\"M120-120v-720h720v720H120Zm60-500h600v-160H180v160Zm220 220h160v-160H400v160Zm0 220h160v-160H400v160ZM180-400h160v-160H180v160Zm440 0h160v-160H620v160ZM180-180h160v-160H180v160Zm440 0h160v-160H620v160Z\"/>\n",
              "  </svg>\n",
              "    </button>\n",
              "\n",
              "  <style>\n",
              "    .colab-df-container {\n",
              "      display:flex;\n",
              "      gap: 12px;\n",
              "    }\n",
              "\n",
              "    .colab-df-convert {\n",
              "      background-color: #E8F0FE;\n",
              "      border: none;\n",
              "      border-radius: 50%;\n",
              "      cursor: pointer;\n",
              "      display: none;\n",
              "      fill: #1967D2;\n",
              "      height: 32px;\n",
              "      padding: 0 0 0 0;\n",
              "      width: 32px;\n",
              "    }\n",
              "\n",
              "    .colab-df-convert:hover {\n",
              "      background-color: #E2EBFA;\n",
              "      box-shadow: 0px 1px 2px rgba(60, 64, 67, 0.3), 0px 1px 3px 1px rgba(60, 64, 67, 0.15);\n",
              "      fill: #174EA6;\n",
              "    }\n",
              "\n",
              "    .colab-df-buttons div {\n",
              "      margin-bottom: 4px;\n",
              "    }\n",
              "\n",
              "    [theme=dark] .colab-df-convert {\n",
              "      background-color: #3B4455;\n",
              "      fill: #D2E3FC;\n",
              "    }\n",
              "\n",
              "    [theme=dark] .colab-df-convert:hover {\n",
              "      background-color: #434B5C;\n",
              "      box-shadow: 0px 1px 3px 1px rgba(0, 0, 0, 0.15);\n",
              "      filter: drop-shadow(0px 1px 2px rgba(0, 0, 0, 0.3));\n",
              "      fill: #FFFFFF;\n",
              "    }\n",
              "  </style>\n",
              "\n",
              "    <script>\n",
              "      const buttonEl =\n",
              "        document.querySelector('#df-9ed12efd-996c-48eb-8f0c-fa32ff14eefc button.colab-df-convert');\n",
              "      buttonEl.style.display =\n",
              "        google.colab.kernel.accessAllowed ? 'block' : 'none';\n",
              "\n",
              "      async function convertToInteractive(key) {\n",
              "        const element = document.querySelector('#df-9ed12efd-996c-48eb-8f0c-fa32ff14eefc');\n",
              "        const dataTable =\n",
              "          await google.colab.kernel.invokeFunction('convertToInteractive',\n",
              "                                                    [key], {});\n",
              "        if (!dataTable) return;\n",
              "\n",
              "        const docLinkHtml = 'Like what you see? Visit the ' +\n",
              "          '<a target=\"_blank\" href=https://colab.research.google.com/notebooks/data_table.ipynb>data table notebook</a>'\n",
              "          + ' to learn more about interactive tables.';\n",
              "        element.innerHTML = '';\n",
              "        dataTable['output_type'] = 'display_data';\n",
              "        await google.colab.output.renderOutput(dataTable, element);\n",
              "        const docLink = document.createElement('div');\n",
              "        docLink.innerHTML = docLinkHtml;\n",
              "        element.appendChild(docLink);\n",
              "      }\n",
              "    </script>\n",
              "  </div>\n",
              "\n",
              "\n",
              "<div id=\"df-f58df548-51a1-4a36-bf02-c2797016f858\">\n",
              "  <button class=\"colab-df-quickchart\" onclick=\"quickchart('df-f58df548-51a1-4a36-bf02-c2797016f858')\"\n",
              "            title=\"Suggest charts\"\n",
              "            style=\"display:none;\">\n",
              "\n",
              "<svg xmlns=\"http://www.w3.org/2000/svg\" height=\"24px\"viewBox=\"0 0 24 24\"\n",
              "     width=\"24px\">\n",
              "    <g>\n",
              "        <path d=\"M19 3H5c-1.1 0-2 .9-2 2v14c0 1.1.9 2 2 2h14c1.1 0 2-.9 2-2V5c0-1.1-.9-2-2-2zM9 17H7v-7h2v7zm4 0h-2V7h2v10zm4 0h-2v-4h2v4z\"/>\n",
              "    </g>\n",
              "</svg>\n",
              "  </button>\n",
              "\n",
              "<style>\n",
              "  .colab-df-quickchart {\n",
              "      --bg-color: #E8F0FE;\n",
              "      --fill-color: #1967D2;\n",
              "      --hover-bg-color: #E2EBFA;\n",
              "      --hover-fill-color: #174EA6;\n",
              "      --disabled-fill-color: #AAA;\n",
              "      --disabled-bg-color: #DDD;\n",
              "  }\n",
              "\n",
              "  [theme=dark] .colab-df-quickchart {\n",
              "      --bg-color: #3B4455;\n",
              "      --fill-color: #D2E3FC;\n",
              "      --hover-bg-color: #434B5C;\n",
              "      --hover-fill-color: #FFFFFF;\n",
              "      --disabled-bg-color: #3B4455;\n",
              "      --disabled-fill-color: #666;\n",
              "  }\n",
              "\n",
              "  .colab-df-quickchart {\n",
              "    background-color: var(--bg-color);\n",
              "    border: none;\n",
              "    border-radius: 50%;\n",
              "    cursor: pointer;\n",
              "    display: none;\n",
              "    fill: var(--fill-color);\n",
              "    height: 32px;\n",
              "    padding: 0;\n",
              "    width: 32px;\n",
              "  }\n",
              "\n",
              "  .colab-df-quickchart:hover {\n",
              "    background-color: var(--hover-bg-color);\n",
              "    box-shadow: 0 1px 2px rgba(60, 64, 67, 0.3), 0 1px 3px 1px rgba(60, 64, 67, 0.15);\n",
              "    fill: var(--button-hover-fill-color);\n",
              "  }\n",
              "\n",
              "  .colab-df-quickchart-complete:disabled,\n",
              "  .colab-df-quickchart-complete:disabled:hover {\n",
              "    background-color: var(--disabled-bg-color);\n",
              "    fill: var(--disabled-fill-color);\n",
              "    box-shadow: none;\n",
              "  }\n",
              "\n",
              "  .colab-df-spinner {\n",
              "    border: 2px solid var(--fill-color);\n",
              "    border-color: transparent;\n",
              "    border-bottom-color: var(--fill-color);\n",
              "    animation:\n",
              "      spin 1s steps(1) infinite;\n",
              "  }\n",
              "\n",
              "  @keyframes spin {\n",
              "    0% {\n",
              "      border-color: transparent;\n",
              "      border-bottom-color: var(--fill-color);\n",
              "      border-left-color: var(--fill-color);\n",
              "    }\n",
              "    20% {\n",
              "      border-color: transparent;\n",
              "      border-left-color: var(--fill-color);\n",
              "      border-top-color: var(--fill-color);\n",
              "    }\n",
              "    30% {\n",
              "      border-color: transparent;\n",
              "      border-left-color: var(--fill-color);\n",
              "      border-top-color: var(--fill-color);\n",
              "      border-right-color: var(--fill-color);\n",
              "    }\n",
              "    40% {\n",
              "      border-color: transparent;\n",
              "      border-right-color: var(--fill-color);\n",
              "      border-top-color: var(--fill-color);\n",
              "    }\n",
              "    60% {\n",
              "      border-color: transparent;\n",
              "      border-right-color: var(--fill-color);\n",
              "    }\n",
              "    80% {\n",
              "      border-color: transparent;\n",
              "      border-right-color: var(--fill-color);\n",
              "      border-bottom-color: var(--fill-color);\n",
              "    }\n",
              "    90% {\n",
              "      border-color: transparent;\n",
              "      border-bottom-color: var(--fill-color);\n",
              "    }\n",
              "  }\n",
              "</style>\n",
              "\n",
              "  <script>\n",
              "    async function quickchart(key) {\n",
              "      const quickchartButtonEl =\n",
              "        document.querySelector('#' + key + ' button');\n",
              "      quickchartButtonEl.disabled = true;  // To prevent multiple clicks.\n",
              "      quickchartButtonEl.classList.add('colab-df-spinner');\n",
              "      try {\n",
              "        const charts = await google.colab.kernel.invokeFunction(\n",
              "            'suggestCharts', [key], {});\n",
              "      } catch (error) {\n",
              "        console.error('Error during call to suggestCharts:', error);\n",
              "      }\n",
              "      quickchartButtonEl.classList.remove('colab-df-spinner');\n",
              "      quickchartButtonEl.classList.add('colab-df-quickchart-complete');\n",
              "    }\n",
              "    (() => {\n",
              "      let quickchartButtonEl =\n",
              "        document.querySelector('#df-f58df548-51a1-4a36-bf02-c2797016f858 button');\n",
              "      quickchartButtonEl.style.display =\n",
              "        google.colab.kernel.accessAllowed ? 'block' : 'none';\n",
              "    })();\n",
              "  </script>\n",
              "</div>\n",
              "\n",
              "    </div>\n",
              "  </div>\n"
            ],
            "application/vnd.google.colaboratory.intrinsic+json": {
              "type": "dataframe"
            }
          },
          "metadata": {}
        }
      ],
      "source": [
        "display(dfTrain.head())\n",
        "display(dfTest.head())"
      ]
    },
    {
      "cell_type": "code",
      "execution_count": 6,
      "id": "a62bf19e-c60f-4d25-b5b7-a4eea8b71b90",
      "metadata": {
        "colab": {
          "base_uri": "https://localhost:8080/"
        },
        "id": "a62bf19e-c60f-4d25-b5b7-a4eea8b71b90",
        "outputId": "b982ba2c-0f4c-4ecc-f58e-b4979b6730e8"
      },
      "outputs": [
        {
          "output_type": "execute_result",
          "data": {
            "text/plain": [
              "Index(['PCIAT-PCIAT_01', 'PCIAT-PCIAT_02', 'PCIAT-PCIAT_03', 'PCIAT-PCIAT_04',\n",
              "       'PCIAT-PCIAT_05', 'PCIAT-PCIAT_06', 'PCIAT-PCIAT_07', 'PCIAT-PCIAT_08',\n",
              "       'PCIAT-PCIAT_09', 'PCIAT-PCIAT_10', 'PCIAT-PCIAT_11', 'PCIAT-PCIAT_12',\n",
              "       'PCIAT-PCIAT_13', 'PCIAT-PCIAT_14', 'PCIAT-PCIAT_15', 'PCIAT-PCIAT_16',\n",
              "       'PCIAT-PCIAT_17', 'PCIAT-PCIAT_18', 'PCIAT-PCIAT_19', 'PCIAT-PCIAT_20',\n",
              "       'PCIAT-PCIAT_Total'],\n",
              "      dtype='object')"
            ]
          },
          "metadata": {},
          "execution_count": 6
        }
      ],
      "source": [
        "pciat_cols = dfTrain.columns[dfTrain.columns.str.contains('PCIAT-PCIAT')]\n",
        "pciat_cols"
      ]
    },
    {
      "cell_type": "code",
      "execution_count": 7,
      "id": "5a724d9b-b49e-4ac5-9fc8-22ed5cdb99da",
      "metadata": {
        "colab": {
          "base_uri": "https://localhost:8080/"
        },
        "id": "5a724d9b-b49e-4ac5-9fc8-22ed5cdb99da",
        "outputId": "93afc167-3c1c-4cdb-9ebc-f0492b70e6ff"
      },
      "outputs": [
        {
          "output_type": "stream",
          "name": "stdout",
          "text": [
            "(3318, 84)\n",
            "(368, 84)\n",
            "(3318, 1)\n",
            "(368, 1)\n"
          ]
        }
      ],
      "source": [
        "# drop id since we can't directly use that as a feature\n",
        "dfTrain = dfTrain.drop(columns=['id'])\n",
        "dfTest = dfTest.drop(columns=['id'])\n",
        "\n",
        "Xtrain = dfTrain.drop(columns=pciat_cols.union(['sii']))\n",
        "Xtest = dfTest.drop(columns=pciat_cols.union(['sii']))\n",
        "ytrain = dfTrain[['sii']]\n",
        "ytest = dfTest[['sii']]\n",
        "\n",
        "print(Xtrain.shape)\n",
        "print(Xtest.shape)\n",
        "print(ytrain.shape)\n",
        "print(ytest.shape)"
      ]
    },
    {
      "cell_type": "code",
      "execution_count": 8,
      "id": "9af83225-67da-46c8-a732-f53badc195cb",
      "metadata": {
        "colab": {
          "base_uri": "https://localhost:8080/"
        },
        "id": "9af83225-67da-46c8-a732-f53badc195cb",
        "outputId": "f8f49713-b30d-4cdd-846e-db702344ee19"
      },
      "outputs": [
        {
          "output_type": "execute_result",
          "data": {
            "text/plain": [
              "84"
            ]
          },
          "metadata": {},
          "execution_count": 8
        }
      ],
      "source": [
        "feature_count = Xtrain.shape[1]\n",
        "feature_count"
      ]
    },
    {
      "cell_type": "markdown",
      "id": "e4770140-0743-44e2-aab0-7048c0b3fbf3",
      "metadata": {
        "id": "e4770140-0743-44e2-aab0-7048c0b3fbf3"
      },
      "source": [
        "## Baseline Model (Linear Regression)"
      ]
    },
    {
      "cell_type": "code",
      "execution_count": null,
      "id": "e973596f-4437-429b-8691-2c81fca93ae5",
      "metadata": {
        "id": "e973596f-4437-429b-8691-2c81fca93ae5"
      },
      "outputs": [],
      "source": [
        "from sklearn.linear_model import LinearRegression\n",
        "from sklearn.linear_model import Lasso"
      ]
    },
    {
      "cell_type": "code",
      "execution_count": null,
      "id": "abf1c2b7-eeb3-4622-a623-a0f69143fcd0",
      "metadata": {
        "id": "abf1c2b7-eeb3-4622-a623-a0f69143fcd0",
        "outputId": "22928f39-c34e-4c1b-c4ec-88089c5f43bb"
      },
      "outputs": [
        {
          "name": "stdout",
          "output_type": "stream",
          "text": [
            "Train MSE  0.4563254389407627\n",
            "Test MSE  0.44306888038803727\n",
            "Train MSE  0.4573380898694945\n",
            "Test MSE  0.43659897378925333\n"
          ]
        }
      ],
      "source": [
        "model = LinearRegression()\n",
        "model.fit(Xtrain, ytrain)\n",
        "ytrainpred = model.predict(Xtrain)\n",
        "ytestpred = model.predict(Xtest)\n",
        "print(\"Train MSE \", mean_squared_error(ytrain, ytrainpred))\n",
        "print(\"Test MSE \", mean_squared_error(ytest, ytestpred))\n",
        "\n",
        "model = Lasso(alpha=0.001)\n",
        "model.fit(Xtrain, ytrain)\n",
        "ytrainpred = model.predict(Xtrain)\n",
        "ytestpred = model.predict(Xtest)\n",
        "print(\"Train MSE \", mean_squared_error(ytrain, ytrainpred))\n",
        "print(\"Test MSE \", mean_squared_error(ytest, ytestpred))"
      ]
    },
    {
      "cell_type": "code",
      "execution_count": null,
      "id": "e13dfa4c-f97c-4e50-9626-557c5e7351b5",
      "metadata": {
        "id": "e13dfa4c-f97c-4e50-9626-557c5e7351b5",
        "outputId": "2ee6db09-9806-41d4-efcf-da5dbe7bc215"
      },
      "outputs": [
        {
          "data": {
            "text/plain": [
              "array([ 0.29117792, -0.11431561, -0.10756465,  0.2828004 ,  0.19849516,\n",
              "       -0.10272838, -0.07541879,  0.13302811, -0.03132182,  0.04114178,\n",
              "        0.04207827, -0.05208451,  0.28563718, -0.09862112, -0.10867625,\n",
              "        0.15126977,  0.04873258,  0.2673229 ,  0.21205086,  0.09954912,\n",
              "        0.03386898, -0.03360281, -0.05197335,  0.03220593, -0.03507325,\n",
              "        0.02572459, -0.06616338, -0.02781248,  0.0254639 , -0.02553602,\n",
              "        0.05388749,  0.02987617])"
            ]
          },
          "execution_count": 164,
          "metadata": {},
          "output_type": "execute_result"
        }
      ],
      "source": [
        "model.coef_[abs(model.coef_) >= 0.025]"
      ]
    },
    {
      "cell_type": "code",
      "execution_count": null,
      "id": "4ef3936e-16b3-4643-ab5d-4fac3d8015b9",
      "metadata": {
        "id": "4ef3936e-16b3-4643-ab5d-4fac3d8015b9",
        "outputId": "fb32d259-4f93-4221-c5a7-daa13c1089ef"
      },
      "outputs": [
        {
          "data": {
            "text/plain": [
              "<StemContainer object of 3 artists>"
            ]
          },
          "execution_count": 157,
          "metadata": {},
          "output_type": "execute_result"
        },
        {
          "data": {
            "image/png": "[encoded data removed]",
            "text/plain": [
              "<Figure size 640x480 with 1 Axes>"
            ]
          },
          "metadata": {},
          "output_type": "display_data"
        }
      ],
      "source": [
        "plt.stem(range(len(model.coef_)), model.coef_)"
      ]
    },
    {
      "cell_type": "markdown",
      "id": "9833ac39-4024-4f97-ab0b-52c8acf906bd",
      "metadata": {
        "id": "9833ac39-4024-4f97-ab0b-52c8acf906bd"
      },
      "source": [
        "Feature selection graph! You can filter out the features that have low parameter values here."
      ]
    },
    {
      "cell_type": "markdown",
      "id": "0628e104-d8d8-4896-a27a-6daeaefc0cfd",
      "metadata": {
        "id": "0628e104-d8d8-4896-a27a-6daeaefc0cfd"
      },
      "source": [
        "## Another model (Decision Tree Regressor)\n",
        "I have no idea why im doing this"
      ]
    },
    {
      "cell_type": "code",
      "execution_count": null,
      "id": "8518be7a-77a1-453d-a4ad-651fee3805fe",
      "metadata": {
        "colab": {
          "base_uri": "https://localhost:8080/"
        },
        "id": "8518be7a-77a1-453d-a4ad-651fee3805fe",
        "outputId": "bfe03f8f-d2c2-48f4-aab6-443eaf811dbd"
      },
      "outputs": [
        {
          "name": "stdout",
          "output_type": "stream",
          "text": [
            "Train MSE  0.49796305473766606\n",
            "Test MSE  0.5494539354144361\n"
          ]
        }
      ],
      "source": [
        "from sklearn.tree import DecisionTreeRegressor\n",
        "mod = DecisionTreeRegressor(ccp_alpha=0.003)\n",
        "mod.fit(Xtrain, ytrain)\n",
        "ytrainpred = mod.predict(Xtrain)\n",
        "ytestpred = mod.predict(Xtest)\n",
        "print(\"Train MSE \", mean_squared_error(ytrain, ytrainpred))\n",
        "print(\"Test MSE \", mean_squared_error(ytest, ytestpred))"
      ]
    },
    {
      "cell_type": "markdown",
      "id": "fdfb11b3-7150-4160-bd06-587759ba74f4",
      "metadata": {
        "id": "fdfb11b3-7150-4160-bd06-587759ba74f4"
      },
      "source": [
        "## Yet another model (Support Vector Regression)\n",
        "I have no idea why im doing this"
      ]
    },
    {
      "cell_type": "code",
      "execution_count": null,
      "id": "24b81787-c73b-4935-a7b0-ca2e270d52cb",
      "metadata": {
        "id": "24b81787-c73b-4935-a7b0-ca2e270d52cb",
        "outputId": "296b6b42-2a4f-47f1-f1bb-79dc4e820eff"
      },
      "outputs": [
        {
          "name": "stdout",
          "output_type": "stream",
          "text": [
            "Train MSE  0.5003859543652212\n",
            "Test MSE  0.4597013003356751\n"
          ]
        }
      ],
      "source": [
        "from sklearn.svm import SVR\n",
        "mod = SVR(C=1, kernel='linear')\n",
        "mod.fit(Xtrain, ytrain['sii'])\n",
        "ytrainpred = mod.predict(Xtrain)\n",
        "ytestpred = mod.predict(Xtest)\n",
        "print(\"Train MSE \", mean_squared_error(ytrain, ytrainpred))\n",
        "print(\"Test MSE \", mean_squared_error(ytest, ytestpred))"
      ]
    },
    {
      "cell_type": "markdown",
      "id": "84e7e14d-e80b-4481-aad8-c17032213de2",
      "metadata": {
        "id": "84e7e14d-e80b-4481-aad8-c17032213de2"
      },
      "source": [
        "## One last silly model (Random Forest Regressor)"
      ]
    },
    {
      "cell_type": "markdown",
      "id": "3d4947dc-2fc0-420f-ad1e-2f9e5fd2864b",
      "metadata": {
        "id": "3d4947dc-2fc0-420f-ad1e-2f9e5fd2864b"
      },
      "source": [
        "Random forest destroys all the other models"
      ]
    },
    {
      "cell_type": "code",
      "execution_count": 9,
      "id": "33b87d9f-b59d-4884-8a7f-41425a67f6e2",
      "metadata": {
        "colab": {
          "base_uri": "https://localhost:8080/"
        },
        "id": "33b87d9f-b59d-4884-8a7f-41425a67f6e2",
        "outputId": "c3688847-0f75-4992-a931-3a3e02ee1051"
      },
      "outputs": [
        {
          "output_type": "stream",
          "name": "stdout",
          "text": [
            "Train MSE  0.40455834267286217\n",
            "Test MSE  0.5378592371734902\n"
          ]
        }
      ],
      "source": [
        "from sklearn.ensemble import RandomForestRegressor\n",
        "mod = RandomForestRegressor(ccp_alpha=0.003)\n",
        "mod.fit(Xtrain, ytrain['sii'])\n",
        "ytrainpred = mod.predict(Xtrain)\n",
        "ytestpred = mod.predict(Xtest)\n",
        "print(\"Train MSE \", mean_squared_error(ytrain, ytrainpred))\n",
        "print(\"Test MSE \", mean_squared_error(ytest, ytestpred))"
      ]
    },
    {
      "cell_type": "markdown",
      "id": "2atujEkLmJ7f",
      "metadata": {
        "id": "2atujEkLmJ7f"
      },
      "source": [
        "Hyperparameter tuning on Random Forest Regressor"
      ]
    },
    {
      "cell_type": "code",
      "execution_count": null,
      "id": "On2v03J7mIPw",
      "metadata": {
        "id": "On2v03J7mIPw"
      },
      "outputs": [],
      "source": [
        "ccp_alpha_values = []\n",
        "train_mses = []\n",
        "test_mses = []\n",
        "for c in range(0, 100000, 1):\n",
        "  mod = RandomForestRegressor(ccp_alpha=c/100000)\n",
        "  mod.fit(Xtrain, ytrain['sii'])\n",
        "  ytrainpred = mod.predict(Xtrain)\n",
        "  ytestpred = mod.predict(Xtest)\n",
        "  train_mse =  mean_squared_error(ytrain, ytrainpred)\n",
        " # print(\"ccp_alpha value: \", c/1000)\n",
        "  test_mse = mean_squared_error(ytest, ytestpred)\n",
        "  #print(\"Train MSE \", mean_squared_error(ytrain, ytrainpred))\n",
        "  #print(\"Test MSE \", mean_squared_error(ytest, ytestpred))\n",
        "  ccp_alpha_values.append(c/100000)\n",
        "  train_mses.append(train_mse)\n",
        "  test_mses.append(test_mse)\n",
        "\n",
        "\n"
      ]
    },
    {
      "cell_type": "code",
      "execution_count": null,
      "id": "Iyd4mQ9hfkn7",
      "metadata": {
        "id": "Iyd4mQ9hfkn7"
      },
      "outputs": [],
      "source": [
        "test_mses = np.array(test_mses)\n",
        "\n",
        "i = np.argmin(test_mses)\n",
        "\n",
        "print(\"Best ccp_alpha value: \", ccp_alpha_values[i])\n",
        "print(\"Test MSE: \", test_mses[i])\n",
        "print(\"Train MSE: \", train_mses[i])\n",
        "\n",
        "plt.plot(ccp_alpha_values, train_mses, label='Train MSE')\n",
        "plt.plot(ccp_alpha_values, test_mses, label='Test MSE')\n",
        "plt.legend()"
      ]
    },
    {
      "cell_type": "markdown",
      "id": "p3pxAx9Egk9F",
      "metadata": {
        "id": "p3pxAx9Egk9F"
      },
      "source": []
    },
    {
      "cell_type": "markdown",
      "id": "6909eaff-00e7-4300-8319-57586f25c976",
      "metadata": {
        "id": "6909eaff-00e7-4300-8319-57586f25c976"
      },
      "source": [
        "## (ANN) Neural Net Example (tensorflow)"
      ]
    },
    {
      "cell_type": "code",
      "execution_count": null,
      "id": "7db1cfeb-1314-4319-99ab-a20ebbd792f0",
      "metadata": {
        "id": "7db1cfeb-1314-4319-99ab-a20ebbd792f0"
      },
      "outputs": [],
      "source": [
        "import tensorflow as tf\n",
        "from tensorflow.keras.models import Sequential  # sequence of layers (output of one layer is input to next)\n",
        "from tensorflow.keras.layers import Input, Dense # 'dense' layer type that's fully connected to previous layer\n",
        "from tensorflow.keras.optimizers import Adam # we could use a stochastic gradient descent optimizer as well"
      ]
    },
    {
      "cell_type": "code",
      "execution_count": null,
      "id": "5d939fb1-575e-4818-986d-5c1e6448e11a",
      "metadata": {
        "id": "5d939fb1-575e-4818-986d-5c1e6448e11a"
      },
      "outputs": [],
      "source": [
        "model = Sequential()"
      ]
    },
    {
      "cell_type": "code",
      "execution_count": null,
      "id": "632b0024-81a1-4617-ad2d-2f5c4aff2670",
      "metadata": {
        "id": "632b0024-81a1-4617-ad2d-2f5c4aff2670"
      },
      "outputs": [],
      "source": [
        "# Input layer\n",
        "model.add(Input(shape=(feature_count,)))\n",
        "\n",
        "# Hidden layer\n",
        "model.add(Dense(64, activation='relu'))  # 64 neurons in the first hidden layer\n",
        "# ReLU (rectified linear unit) adds nonlinearity and is often used for hidden layers\n",
        "\n",
        "# Hidden layer\n",
        "model.add(Dense(32, activation='relu'))  # 32 neurons in the second hidden layer\n",
        "# 64 and 32 neuron count is adjustable!!\n",
        "\n",
        "# Output layer (single neuron outputting a value between 0 and 3)\n",
        "model.add(Dense(1, activation='linear'))  # linear for regression, outputs continuous value"
      ]
    },
    {
      "cell_type": "code",
      "execution_count": null,
      "id": "e4e768c7-0290-4d8d-bf85-c8e0cb9d3def",
      "metadata": {
        "id": "e4e768c7-0290-4d8d-bf85-c8e0cb9d3def"
      },
      "outputs": [],
      "source": [
        "# Compile the model\n",
        "model.compile(optimizer=Adam(learning_rate=0.001), loss='mean_squared_error')\n",
        "# specify optimizer (adam or sgd (stochastic gradient descent)), and loss function"
      ]
    },
    {
      "cell_type": "code",
      "execution_count": null,
      "id": "5e9ee867-f4fc-4d50-bbe2-166b7e21e638",
      "metadata": {
        "id": "5e9ee867-f4fc-4d50-bbe2-166b7e21e638",
        "outputId": "bfb650e0-d200-46f5-9b0b-d569497991ce"
      },
      "outputs": [
        {
          "data": {
            "text/html": [
              "<pre style=\"white-space:pre;overflow-x:auto;line-height:normal;font-family:Menlo,'DejaVu Sans Mono',consolas,'Courier New',monospace\"><span style=\"font-weight: bold\">Model: \"sequential\"</span>\n",
              "</pre>\n"
            ],
            "text/plain": [
              "\u001b[1mModel: \"sequential\"\u001b[0m\n"
            ]
          },
          "metadata": {},
          "output_type": "display_data"
        },
        {
          "data": {
            "text/html": [
              "<pre style=\"white-space:pre;overflow-x:auto;line-height:normal;font-family:Menlo,'DejaVu Sans Mono',consolas,'Courier New',monospace\">┏━━━━━━━━━━━━━━━━━━━━━━━━━━━━━━━━━━━━━━┳━━━━━━━━━━━━━━━━━━━━━━━━━━━━━┳━━━━━━━━━━━━━━━━━┓\n",
              "┃<span style=\"font-weight: bold\"> Layer (type)                         </span>┃<span style=\"font-weight: bold\"> Output Shape                </span>┃<span style=\"font-weight: bold\">         Param # </span>┃\n",
              "┡━━━━━━━━━━━━━━━━━━━━━━━━━━━━━━━━━━━━━━╇━━━━━━━━━━━━━━━━━━━━━━━━━━━━━╇━━━━━━━━━━━━━━━━━┩\n",
              "│ dense (<span style=\"color: #0087ff; text-decoration-color: #0087ff\">Dense</span>)                        │ (<span style=\"color: #00d7ff; text-decoration-color: #00d7ff\">None</span>, <span style=\"color: #00af00; text-decoration-color: #00af00\">64</span>)                  │           <span style=\"color: #00af00; text-decoration-color: #00af00\">5,440</span> │\n",
              "├──────────────────────────────────────┼─────────────────────────────┼─────────────────┤\n",
              "│ dense_1 (<span style=\"color: #0087ff; text-decoration-color: #0087ff\">Dense</span>)                      │ (<span style=\"color: #00d7ff; text-decoration-color: #00d7ff\">None</span>, <span style=\"color: #00af00; text-decoration-color: #00af00\">32</span>)                  │           <span style=\"color: #00af00; text-decoration-color: #00af00\">2,080</span> │\n",
              "├──────────────────────────────────────┼─────────────────────────────┼─────────────────┤\n",
              "│ dense_2 (<span style=\"color: #0087ff; text-decoration-color: #0087ff\">Dense</span>)                      │ (<span style=\"color: #00d7ff; text-decoration-color: #00d7ff\">None</span>, <span style=\"color: #00af00; text-decoration-color: #00af00\">1</span>)                   │              <span style=\"color: #00af00; text-decoration-color: #00af00\">33</span> │\n",
              "└──────────────────────────────────────┴─────────────────────────────┴─────────────────┘\n",
              "</pre>\n"
            ],
            "text/plain": [
              "┏━━━━━━━━━━━━━━━━━━━━━━━━━━━━━━━━━━━━━━┳━━━━━━━━━━━━━━━━━━━━━━━━━━━━━┳━━━━━━━━━━━━━━━━━┓\n",
              "┃\u001b[1m \u001b[0m\u001b[1mLayer (type)                        \u001b[0m\u001b[1m \u001b[0m┃\u001b[1m \u001b[0m\u001b[1mOutput Shape               \u001b[0m\u001b[1m \u001b[0m┃\u001b[1m \u001b[0m\u001b[1m        Param #\u001b[0m\u001b[1m \u001b[0m┃\n",
              "┡━━━━━━━━━━━━━━━━━━━━━━━━━━━━━━━━━━━━━━╇━━━━━━━━━━━━━━━━━━━━━━━━━━━━━╇━━━━━━━━━━━━━━━━━┩\n",
              "│ dense (\u001b[38;5;33mDense\u001b[0m)                        │ (\u001b[38;5;45mNone\u001b[0m, \u001b[38;5;34m64\u001b[0m)                  │           \u001b[38;5;34m5,440\u001b[0m │\n",
              "├──────────────────────────────────────┼─────────────────────────────┼─────────────────┤\n",
              "│ dense_1 (\u001b[38;5;33mDense\u001b[0m)                      │ (\u001b[38;5;45mNone\u001b[0m, \u001b[38;5;34m32\u001b[0m)                  │           \u001b[38;5;34m2,080\u001b[0m │\n",
              "├──────────────────────────────────────┼─────────────────────────────┼─────────────────┤\n",
              "│ dense_2 (\u001b[38;5;33mDense\u001b[0m)                      │ (\u001b[38;5;45mNone\u001b[0m, \u001b[38;5;34m1\u001b[0m)                   │              \u001b[38;5;34m33\u001b[0m │\n",
              "└──────────────────────────────────────┴─────────────────────────────┴─────────────────┘\n"
            ]
          },
          "metadata": {},
          "output_type": "display_data"
        },
        {
          "data": {
            "text/html": [
              "<pre style=\"white-space:pre;overflow-x:auto;line-height:normal;font-family:Menlo,'DejaVu Sans Mono',consolas,'Courier New',monospace\"><span style=\"font-weight: bold\"> Total params: </span><span style=\"color: #00af00; text-decoration-color: #00af00\">7,553</span> (29.50 KB)\n",
              "</pre>\n"
            ],
            "text/plain": [
              "\u001b[1m Total params: \u001b[0m\u001b[38;5;34m7,553\u001b[0m (29.50 KB)\n"
            ]
          },
          "metadata": {},
          "output_type": "display_data"
        },
        {
          "data": {
            "text/html": [
              "<pre style=\"white-space:pre;overflow-x:auto;line-height:normal;font-family:Menlo,'DejaVu Sans Mono',consolas,'Courier New',monospace\"><span style=\"font-weight: bold\"> Trainable params: </span><span style=\"color: #00af00; text-decoration-color: #00af00\">7,553</span> (29.50 KB)\n",
              "</pre>\n"
            ],
            "text/plain": [
              "\u001b[1m Trainable params: \u001b[0m\u001b[38;5;34m7,553\u001b[0m (29.50 KB)\n"
            ]
          },
          "metadata": {},
          "output_type": "display_data"
        },
        {
          "data": {
            "text/html": [
              "<pre style=\"white-space:pre;overflow-x:auto;line-height:normal;font-family:Menlo,'DejaVu Sans Mono',consolas,'Courier New',monospace\"><span style=\"font-weight: bold\"> Non-trainable params: </span><span style=\"color: #00af00; text-decoration-color: #00af00\">0</span> (0.00 B)\n",
              "</pre>\n"
            ],
            "text/plain": [
              "\u001b[1m Non-trainable params: \u001b[0m\u001b[38;5;34m0\u001b[0m (0.00 B)\n"
            ]
          },
          "metadata": {},
          "output_type": "display_data"
        }
      ],
      "source": [
        "model.summary()"
      ]
    },
    {
      "cell_type": "code",
      "execution_count": null,
      "id": "46a65dfa-4588-4068-8cc1-f6aeca08f8cd",
      "metadata": {
        "id": "46a65dfa-4588-4068-8cc1-f6aeca08f8cd"
      },
      "outputs": [],
      "source": [
        "# Train the model\n",
        "history = model.fit(Xtrain, ytrain, epochs=100, batch_size=32, validation_split=0.2)"
      ]
    },
    {
      "cell_type": "markdown",
      "id": "b06a7df1-a6cb-4c41-80dc-76309a9340d0",
      "metadata": {
        "id": "b06a7df1-a6cb-4c41-80dc-76309a9340d0"
      },
      "source": [
        "### A note on hyperparameter tuning\n",
        "You can experiment with the number of layers, neurons, activation functions, and training parameters (epochs, batch size) depending on the problem complexity (want low validation loss)"
      ]
    },
    {
      "cell_type": "code",
      "execution_count": null,
      "id": "b811fd8c-f354-493d-85ac-1d074dda3e20",
      "metadata": {
        "id": "b811fd8c-f354-493d-85ac-1d074dda3e20",
        "outputId": "c3d8ce0e-a638-46cb-a950-60b7c908e4d4"
      },
      "outputs": [
        {
          "data": {
            "text/plain": [
              "<matplotlib.legend.Legend at 0x227d289b440>"
            ]
          },
          "execution_count": 27,
          "metadata": {},
          "output_type": "execute_result"
        },
        {
          "data": {
            "image/png": "[encoded data removed]",
            "text/plain": [
              "<Figure size 640x480 with 1 Axes>"
            ]
          },
          "metadata": {},
          "output_type": "display_data"
        }
      ],
      "source": [
        "plt.scatter(range(len(history.history['loss'])), history.history['loss'], label='loss')\n",
        "plt.scatter(range(len(history.history['loss'])), history.history['val_loss'], label='val_loss')\n",
        "plt.legend()"
      ]
    },
    {
      "cell_type": "markdown",
      "id": "07e78e36-a5ff-4862-85c0-47a4dbcd35f5",
      "metadata": {
        "id": "07e78e36-a5ff-4862-85c0-47a4dbcd35f5"
      },
      "source": [
        "Insane overfitting already!"
      ]
    },
    {
      "cell_type": "code",
      "execution_count": null,
      "id": "d5898eec-b1cf-4546-abfa-20d88049fa4d",
      "metadata": {
        "id": "d5898eec-b1cf-4546-abfa-20d88049fa4d",
        "outputId": "7f12990d-a407-4409-9ad6-8590930ddbe1"
      },
      "outputs": [
        {
          "name": "stdout",
          "output_type": "stream",
          "text": [
            "\u001b[1m90/90\u001b[0m \u001b[32m━━━━━━━━━━━━━━━━━━━━\u001b[0m\u001b[37m\u001b[0m \u001b[1m0s\u001b[0m 2ms/step\n",
            "\u001b[1m10/10\u001b[0m \u001b[32m━━━━━━━━━━━━━━━━━━━━\u001b[0m\u001b[37m\u001b[0m \u001b[1m0s\u001b[0m 2ms/step \n"
          ]
        }
      ],
      "source": [
        "ytrainpred = model.predict(Xtrain)\n",
        "ytestpred = model.predict(Xtest)"
      ]
    },
    {
      "cell_type": "code",
      "execution_count": null,
      "id": "0998711d-c05e-4595-a9b5-838ec893eb22",
      "metadata": {
        "id": "0998711d-c05e-4595-a9b5-838ec893eb22",
        "outputId": "078b9284-a4b6-4d42-dcaf-15dc0a1a75a7"
      },
      "outputs": [
        {
          "name": "stdout",
          "output_type": "stream",
          "text": [
            "Train MSE  0.18889020050662367\n",
            "Test MSE  0.8590225634760416\n"
          ]
        }
      ],
      "source": [
        "print(\"Train MSE \", mean_squared_error(ytrain, ytrainpred))\n",
        "print(\"Test MSE \", mean_squared_error(ytest, ytestpred))"
      ]
    },
    {
      "cell_type": "code",
      "execution_count": null,
      "id": "4c769170-65bc-418d-8ea6-016d9e6ed603",
      "metadata": {
        "id": "4c769170-65bc-418d-8ea6-016d9e6ed603",
        "outputId": "d60ced3b-eed5-4599-cf3d-698905b37214"
      },
      "outputs": [
        {
          "data": {
            "text/plain": [
              "array([-1.9334109], dtype=float32)"
            ]
          },
          "execution_count": 47,
          "metadata": {},
          "output_type": "execute_result"
        }
      ],
      "source": [
        "min(ytestpred)"
      ]
    },
    {
      "cell_type": "code",
      "execution_count": null,
      "id": "19476c7c-40aa-4457-8a12-062a33799ab3",
      "metadata": {
        "id": "19476c7c-40aa-4457-8a12-062a33799ab3"
      },
      "outputs": [],
      "source": []
    },
    {
      "cell_type": "code",
      "execution_count": null,
      "id": "90cf82b6-0800-453d-9912-abdb48aceb2e",
      "metadata": {
        "id": "90cf82b6-0800-453d-9912-abdb48aceb2e"
      },
      "outputs": [],
      "source": [
        "def custom_activation(x):\n",
        "    return 3 * tf.nn.sigmoid(x)  # Sigmoid output scaled to range [0, 3]"
      ]
    },
    {
      "cell_type": "code",
      "execution_count": null,
      "id": "419acd0c-9601-4fc1-a2af-369f7b43da62",
      "metadata": {
        "id": "419acd0c-9601-4fc1-a2af-369f7b43da62"
      },
      "outputs": [],
      "source": [
        "model = Sequential()\n",
        "\n",
        "model.add(Input(shape=(feature_count,)))\n",
        "model.add(Dense(16, activation='relu'))\n",
        "model.add(Dense(8, activation='relu'))\n",
        "model.add(Dense(6, activation='relu'))\n",
        "\n",
        "# Define the output layer with the custom activation function\n",
        "model.add(Dense(1, activation='linear'))"
      ]
    },
    {
      "cell_type": "code",
      "execution_count": null,
      "id": "488426d0-c810-4b4d-a9f9-989a3dae0f5b",
      "metadata": {
        "id": "488426d0-c810-4b4d-a9f9-989a3dae0f5b"
      },
      "outputs": [],
      "source": [
        "model.compile(optimizer='adam', loss='mean_squared_error')"
      ]
    },
    {
      "cell_type": "code",
      "execution_count": null,
      "id": "f31e0b3a-e988-478a-9ebf-159978993424",
      "metadata": {
        "id": "f31e0b3a-e988-478a-9ebf-159978993424",
        "outputId": "5f84051c-a5fd-4889-d2c4-af0ba1002b43"
      },
      "outputs": [
        {
          "data": {
            "text/html": [
              "<pre style=\"white-space:pre;overflow-x:auto;line-height:normal;font-family:Menlo,'DejaVu Sans Mono',consolas,'Courier New',monospace\"><span style=\"font-weight: bold\">Model: \"sequential_3\"</span>\n",
              "</pre>\n"
            ],
            "text/plain": [
              "\u001b[1mModel: \"sequential_3\"\u001b[0m\n"
            ]
          },
          "metadata": {},
          "output_type": "display_data"
        },
        {
          "data": {
            "text/html": [
              "<pre style=\"white-space:pre;overflow-x:auto;line-height:normal;font-family:Menlo,'DejaVu Sans Mono',consolas,'Courier New',monospace\">┏━━━━━━━━━━━━━━━━━━━━━━━━━━━━━━━━━━━━━━┳━━━━━━━━━━━━━━━━━━━━━━━━━━━━━┳━━━━━━━━━━━━━━━━━┓\n",
              "┃<span style=\"font-weight: bold\"> Layer (type)                         </span>┃<span style=\"font-weight: bold\"> Output Shape                </span>┃<span style=\"font-weight: bold\">         Param # </span>┃\n",
              "┡━━━━━━━━━━━━━━━━━━━━━━━━━━━━━━━━━━━━━━╇━━━━━━━━━━━━━━━━━━━━━━━━━━━━━╇━━━━━━━━━━━━━━━━━┩\n",
              "│ dense_9 (<span style=\"color: #0087ff; text-decoration-color: #0087ff\">Dense</span>)                      │ (<span style=\"color: #00d7ff; text-decoration-color: #00d7ff\">None</span>, <span style=\"color: #00af00; text-decoration-color: #00af00\">16</span>)                  │           <span style=\"color: #00af00; text-decoration-color: #00af00\">1,360</span> │\n",
              "├──────────────────────────────────────┼─────────────────────────────┼─────────────────┤\n",
              "│ dense_10 (<span style=\"color: #0087ff; text-decoration-color: #0087ff\">Dense</span>)                     │ (<span style=\"color: #00d7ff; text-decoration-color: #00d7ff\">None</span>, <span style=\"color: #00af00; text-decoration-color: #00af00\">8</span>)                   │             <span style=\"color: #00af00; text-decoration-color: #00af00\">136</span> │\n",
              "├──────────────────────────────────────┼─────────────────────────────┼─────────────────┤\n",
              "│ dense_11 (<span style=\"color: #0087ff; text-decoration-color: #0087ff\">Dense</span>)                     │ (<span style=\"color: #00d7ff; text-decoration-color: #00d7ff\">None</span>, <span style=\"color: #00af00; text-decoration-color: #00af00\">6</span>)                   │              <span style=\"color: #00af00; text-decoration-color: #00af00\">54</span> │\n",
              "├──────────────────────────────────────┼─────────────────────────────┼─────────────────┤\n",
              "│ dense_12 (<span style=\"color: #0087ff; text-decoration-color: #0087ff\">Dense</span>)                     │ (<span style=\"color: #00d7ff; text-decoration-color: #00d7ff\">None</span>, <span style=\"color: #00af00; text-decoration-color: #00af00\">1</span>)                   │               <span style=\"color: #00af00; text-decoration-color: #00af00\">7</span> │\n",
              "└──────────────────────────────────────┴─────────────────────────────┴─────────────────┘\n",
              "</pre>\n"
            ],
            "text/plain": [
              "┏━━━━━━━━━━━━━━━━━━━━━━━━━━━━━━━━━━━━━━┳━━━━━━━━━━━━━━━━━━━━━━━━━━━━━┳━━━━━━━━━━━━━━━━━┓\n",
              "┃\u001b[1m \u001b[0m\u001b[1mLayer (type)                        \u001b[0m\u001b[1m \u001b[0m┃\u001b[1m \u001b[0m\u001b[1mOutput Shape               \u001b[0m\u001b[1m \u001b[0m┃\u001b[1m \u001b[0m\u001b[1m        Param #\u001b[0m\u001b[1m \u001b[0m┃\n",
              "┡━━━━━━━━━━━━━━━━━━━━━━━━━━━━━━━━━━━━━━╇━━━━━━━━━━━━━━━━━━━━━━━━━━━━━╇━━━━━━━━━━━━━━━━━┩\n",
              "│ dense_9 (\u001b[38;5;33mDense\u001b[0m)                      │ (\u001b[38;5;45mNone\u001b[0m, \u001b[38;5;34m16\u001b[0m)                  │           \u001b[38;5;34m1,360\u001b[0m │\n",
              "├──────────────────────────────────────┼─────────────────────────────┼─────────────────┤\n",
              "│ dense_10 (\u001b[38;5;33mDense\u001b[0m)                     │ (\u001b[38;5;45mNone\u001b[0m, \u001b[38;5;34m8\u001b[0m)                   │             \u001b[38;5;34m136\u001b[0m │\n",
              "├──────────────────────────────────────┼─────────────────────────────┼─────────────────┤\n",
              "│ dense_11 (\u001b[38;5;33mDense\u001b[0m)                     │ (\u001b[38;5;45mNone\u001b[0m, \u001b[38;5;34m6\u001b[0m)                   │              \u001b[38;5;34m54\u001b[0m │\n",
              "├──────────────────────────────────────┼─────────────────────────────┼─────────────────┤\n",
              "│ dense_12 (\u001b[38;5;33mDense\u001b[0m)                     │ (\u001b[38;5;45mNone\u001b[0m, \u001b[38;5;34m1\u001b[0m)                   │               \u001b[38;5;34m7\u001b[0m │\n",
              "└──────────────────────────────────────┴─────────────────────────────┴─────────────────┘\n"
            ]
          },
          "metadata": {},
          "output_type": "display_data"
        },
        {
          "data": {
            "text/html": [
              "<pre style=\"white-space:pre;overflow-x:auto;line-height:normal;font-family:Menlo,'DejaVu Sans Mono',consolas,'Courier New',monospace\"><span style=\"font-weight: bold\"> Total params: </span><span style=\"color: #00af00; text-decoration-color: #00af00\">1,557</span> (6.08 KB)\n",
              "</pre>\n"
            ],
            "text/plain": [
              "\u001b[1m Total params: \u001b[0m\u001b[38;5;34m1,557\u001b[0m (6.08 KB)\n"
            ]
          },
          "metadata": {},
          "output_type": "display_data"
        },
        {
          "data": {
            "text/html": [
              "<pre style=\"white-space:pre;overflow-x:auto;line-height:normal;font-family:Menlo,'DejaVu Sans Mono',consolas,'Courier New',monospace\"><span style=\"font-weight: bold\"> Trainable params: </span><span style=\"color: #00af00; text-decoration-color: #00af00\">1,557</span> (6.08 KB)\n",
              "</pre>\n"
            ],
            "text/plain": [
              "\u001b[1m Trainable params: \u001b[0m\u001b[38;5;34m1,557\u001b[0m (6.08 KB)\n"
            ]
          },
          "metadata": {},
          "output_type": "display_data"
        },
        {
          "data": {
            "text/html": [
              "<pre style=\"white-space:pre;overflow-x:auto;line-height:normal;font-family:Menlo,'DejaVu Sans Mono',consolas,'Courier New',monospace\"><span style=\"font-weight: bold\"> Non-trainable params: </span><span style=\"color: #00af00; text-decoration-color: #00af00\">0</span> (0.00 B)\n",
              "</pre>\n"
            ],
            "text/plain": [
              "\u001b[1m Non-trainable params: \u001b[0m\u001b[38;5;34m0\u001b[0m (0.00 B)\n"
            ]
          },
          "metadata": {},
          "output_type": "display_data"
        }
      ],
      "source": [
        "model.summary()"
      ]
    },
    {
      "cell_type": "code",
      "execution_count": null,
      "id": "4edd5221-5a78-49c6-b152-45eed4c49f37",
      "metadata": {
        "id": "4edd5221-5a78-49c6-b152-45eed4c49f37"
      },
      "outputs": [],
      "source": [
        "model.fit(Xtrain, ytrain, epochs=50, batch_size=32, validation_split=0.2)"
      ]
    },
    {
      "cell_type": "code",
      "execution_count": null,
      "id": "89a65cff-50db-48e0-939c-6116075b1057",
      "metadata": {
        "id": "89a65cff-50db-48e0-939c-6116075b1057",
        "outputId": "8b2877ef-b62d-4e4c-ef44-25c940b0f439"
      },
      "outputs": [
        {
          "name": "stdout",
          "output_type": "stream",
          "text": [
            "\u001b[1m90/90\u001b[0m \u001b[32m━━━━━━━━━━━━━━━━━━━━\u001b[0m\u001b[37m\u001b[0m \u001b[1m0s\u001b[0m 3ms/step\n",
            "\u001b[1m10/10\u001b[0m \u001b[32m━━━━━━━━━━━━━━━━━━━━\u001b[0m\u001b[37m\u001b[0m \u001b[1m0s\u001b[0m 3ms/step \n",
            "Train MSE  0.3616185418236544\n",
            "Test MSE  0.5770438802002713\n"
          ]
        }
      ],
      "source": [
        "ytrainpred = model.predict(Xtrain)\n",
        "ytestpred = model.predict(Xtest)\n",
        "print(\"Train MSE \", mean_squared_error(ytrain, ytrainpred))\n",
        "print(\"Test MSE \", mean_squared_error(ytest, ytestpred))"
      ]
    },
    {
      "cell_type": "markdown",
      "id": "e65a7227-e278-4f55-960b-dddebd5c35cf",
      "metadata": {
        "id": "e65a7227-e278-4f55-960b-dddebd5c35cf"
      },
      "source": []
    },
    {
      "cell_type": "markdown",
      "id": "59f3a984-aae5-44fb-8bd3-c7f2ba6a8793",
      "metadata": {
        "id": "59f3a984-aae5-44fb-8bd3-c7f2ba6a8793"
      },
      "source": [
        "Now to prevent overfitting...\n",
        "\n",
        "\n",
        "- Use Regularization (L1, L2) to penalize large weights and encourage simpler models.\n",
        "- Implement Early Stopping to stop training when validation loss stops improving.\n",
        "- **Simplify the Model by reducing layers or neurons.**\n",
        "- Add Dropout layers to reduce overfitting by randomly deactivating neurons.\n",
        "- Use Cross-Validation to get a more reliable estimate of model performance.\n",
        "- **Feature Engineering and Scaling can help improve model performance.**\n",
        "  - Dimensional reduction (PCA) or feature selection; some of the features could be redundant"
      ]
    },
    {
      "cell_type": "markdown",
      "id": "8ad78b79-341e-4c38-b6fe-cd16fe96b0fb",
      "metadata": {
        "id": "8ad78b79-341e-4c38-b6fe-cd16fe96b0fb"
      },
      "source": [
        "### More advanced model"
      ]
    },
    {
      "cell_type": "code",
      "execution_count": null,
      "id": "9d1234e2-fc5e-48d5-a34c-992d7eaeb96c",
      "metadata": {
        "id": "9d1234e2-fc5e-48d5-a34c-992d7eaeb96c"
      },
      "outputs": [],
      "source": [
        "from tensorflow.keras import regularizers\n",
        "from tensorflow.keras.callbacks import EarlyStopping\n",
        "from tensorflow.keras.layers import Dropout"
      ]
    },
    {
      "cell_type": "code",
      "execution_count": null,
      "id": "7c22644f-055e-4773-a88f-aad7d4847902",
      "metadata": {
        "id": "7c22644f-055e-4773-a88f-aad7d4847902",
        "outputId": "c156bea9-6c3b-4ba8-8975-296bd580a51b"
      },
      "outputs": [
        {
          "data": {
            "text/html": [
              "<pre style=\"white-space:pre;overflow-x:auto;line-height:normal;font-family:Menlo,'DejaVu Sans Mono',consolas,'Courier New',monospace\"><span style=\"font-weight: bold\">Model: \"sequential_40\"</span>\n",
              "</pre>\n"
            ],
            "text/plain": [
              "\u001b[1mModel: \"sequential_40\"\u001b[0m\n"
            ]
          },
          "metadata": {},
          "output_type": "display_data"
        },
        {
          "data": {
            "text/html": [
              "<pre style=\"white-space:pre;overflow-x:auto;line-height:normal;font-family:Menlo,'DejaVu Sans Mono',consolas,'Courier New',monospace\">┏━━━━━━━━━━━━━━━━━━━━━━━━━━━━━━━━━━━━━━┳━━━━━━━━━━━━━━━━━━━━━━━━━━━━━┳━━━━━━━━━━━━━━━━━┓\n",
              "┃<span style=\"font-weight: bold\"> Layer (type)                         </span>┃<span style=\"font-weight: bold\"> Output Shape                </span>┃<span style=\"font-weight: bold\">         Param # </span>┃\n",
              "┡━━━━━━━━━━━━━━━━━━━━━━━━━━━━━━━━━━━━━━╇━━━━━━━━━━━━━━━━━━━━━━━━━━━━━╇━━━━━━━━━━━━━━━━━┩\n",
              "│ dense_122 (<span style=\"color: #0087ff; text-decoration-color: #0087ff\">Dense</span>)                    │ (<span style=\"color: #00d7ff; text-decoration-color: #00d7ff\">None</span>, <span style=\"color: #00af00; text-decoration-color: #00af00\">4</span>)                   │             <span style=\"color: #00af00; text-decoration-color: #00af00\">340</span> │\n",
              "├──────────────────────────────────────┼─────────────────────────────┼─────────────────┤\n",
              "│ dense_123 (<span style=\"color: #0087ff; text-decoration-color: #0087ff\">Dense</span>)                    │ (<span style=\"color: #00d7ff; text-decoration-color: #00d7ff\">None</span>, <span style=\"color: #00af00; text-decoration-color: #00af00\">3</span>)                   │              <span style=\"color: #00af00; text-decoration-color: #00af00\">15</span> │\n",
              "├──────────────────────────────────────┼─────────────────────────────┼─────────────────┤\n",
              "│ dense_124 (<span style=\"color: #0087ff; text-decoration-color: #0087ff\">Dense</span>)                    │ (<span style=\"color: #00d7ff; text-decoration-color: #00d7ff\">None</span>, <span style=\"color: #00af00; text-decoration-color: #00af00\">1</span>)                   │               <span style=\"color: #00af00; text-decoration-color: #00af00\">4</span> │\n",
              "└──────────────────────────────────────┴─────────────────────────────┴─────────────────┘\n",
              "</pre>\n"
            ],
            "text/plain": [
              "┏━━━━━━━━━━━━━━━━━━━━━━━━━━━━━━━━━━━━━━┳━━━━━━━━━━━━━━━━━━━━━━━━━━━━━┳━━━━━━━━━━━━━━━━━┓\n",
              "┃\u001b[1m \u001b[0m\u001b[1mLayer (type)                        \u001b[0m\u001b[1m \u001b[0m┃\u001b[1m \u001b[0m\u001b[1mOutput Shape               \u001b[0m\u001b[1m \u001b[0m┃\u001b[1m \u001b[0m\u001b[1m        Param #\u001b[0m\u001b[1m \u001b[0m┃\n",
              "┡━━━━━━━━━━━━━━━━━━━━━━━━━━━━━━━━━━━━━━╇━━━━━━━━━━━━━━━━━━━━━━━━━━━━━╇━━━━━━━━━━━━━━━━━┩\n",
              "│ dense_122 (\u001b[38;5;33mDense\u001b[0m)                    │ (\u001b[38;5;45mNone\u001b[0m, \u001b[38;5;34m4\u001b[0m)                   │             \u001b[38;5;34m340\u001b[0m │\n",
              "├──────────────────────────────────────┼─────────────────────────────┼─────────────────┤\n",
              "│ dense_123 (\u001b[38;5;33mDense\u001b[0m)                    │ (\u001b[38;5;45mNone\u001b[0m, \u001b[38;5;34m3\u001b[0m)                   │              \u001b[38;5;34m15\u001b[0m │\n",
              "├──────────────────────────────────────┼─────────────────────────────┼─────────────────┤\n",
              "│ dense_124 (\u001b[38;5;33mDense\u001b[0m)                    │ (\u001b[38;5;45mNone\u001b[0m, \u001b[38;5;34m1\u001b[0m)                   │               \u001b[38;5;34m4\u001b[0m │\n",
              "└──────────────────────────────────────┴─────────────────────────────┴─────────────────┘\n"
            ]
          },
          "metadata": {},
          "output_type": "display_data"
        },
        {
          "data": {
            "text/html": [
              "<pre style=\"white-space:pre;overflow-x:auto;line-height:normal;font-family:Menlo,'DejaVu Sans Mono',consolas,'Courier New',monospace\"><span style=\"font-weight: bold\"> Total params: </span><span style=\"color: #00af00; text-decoration-color: #00af00\">359</span> (1.40 KB)\n",
              "</pre>\n"
            ],
            "text/plain": [
              "\u001b[1m Total params: \u001b[0m\u001b[38;5;34m359\u001b[0m (1.40 KB)\n"
            ]
          },
          "metadata": {},
          "output_type": "display_data"
        },
        {
          "data": {
            "text/html": [
              "<pre style=\"white-space:pre;overflow-x:auto;line-height:normal;font-family:Menlo,'DejaVu Sans Mono',consolas,'Courier New',monospace\"><span style=\"font-weight: bold\"> Trainable params: </span><span style=\"color: #00af00; text-decoration-color: #00af00\">359</span> (1.40 KB)\n",
              "</pre>\n"
            ],
            "text/plain": [
              "\u001b[1m Trainable params: \u001b[0m\u001b[38;5;34m359\u001b[0m (1.40 KB)\n"
            ]
          },
          "metadata": {},
          "output_type": "display_data"
        },
        {
          "data": {
            "text/html": [
              "<pre style=\"white-space:pre;overflow-x:auto;line-height:normal;font-family:Menlo,'DejaVu Sans Mono',consolas,'Courier New',monospace\"><span style=\"font-weight: bold\"> Non-trainable params: </span><span style=\"color: #00af00; text-decoration-color: #00af00\">0</span> (0.00 B)\n",
              "</pre>\n"
            ],
            "text/plain": [
              "\u001b[1m Non-trainable params: \u001b[0m\u001b[38;5;34m0\u001b[0m (0.00 B)\n"
            ]
          },
          "metadata": {},
          "output_type": "display_data"
        },
        {
          "name": "stdout",
          "output_type": "stream",
          "text": [
            "Epoch 1/50\n",
            "\u001b[1m143/143\u001b[0m \u001b[32m━━━━━━━━━━━━━━━━━━━━\u001b[0m\u001b[37m\u001b[0m \u001b[1m3s\u001b[0m 5ms/step - loss: 0.7739 - val_loss: 0.6552\n",
            "Epoch 2/50\n",
            "\u001b[1m143/143\u001b[0m \u001b[32m━━━━━━━━━━━━━━━━━━━━\u001b[0m\u001b[37m\u001b[0m \u001b[1m0s\u001b[0m 3ms/step - loss: 0.6439 - val_loss: 0.6204\n",
            "Epoch 3/50\n",
            "\u001b[1m143/143\u001b[0m \u001b[32m━━━━━━━━━━━━━━━━━━━━\u001b[0m\u001b[37m\u001b[0m \u001b[1m1s\u001b[0m 3ms/step - loss: 0.5871 - val_loss: 0.5946\n",
            "Epoch 4/50\n",
            "\u001b[1m143/143\u001b[0m \u001b[32m━━━━━━━━━━━━━━━━━━━━\u001b[0m\u001b[37m\u001b[0m \u001b[1m1s\u001b[0m 3ms/step - loss: 0.5688 - val_loss: 0.5760\n",
            "Epoch 5/50\n",
            "\u001b[1m143/143\u001b[0m \u001b[32m━━━━━━━━━━━━━━━━━━━━\u001b[0m\u001b[37m\u001b[0m \u001b[1m1s\u001b[0m 3ms/step - loss: 0.5330 - val_loss: 0.5626\n",
            "Epoch 6/50\n",
            "\u001b[1m143/143\u001b[0m \u001b[32m━━━━━━━━━━━━━━━━━━━━\u001b[0m\u001b[37m\u001b[0m \u001b[1m1s\u001b[0m 3ms/step - loss: 0.5590 - val_loss: 0.5502\n",
            "Epoch 7/50\n",
            "\u001b[1m143/143\u001b[0m \u001b[32m━━━━━━━━━━━━━━━━━━━━\u001b[0m\u001b[37m\u001b[0m \u001b[1m1s\u001b[0m 2ms/step - loss: 0.5260 - val_loss: 0.5443\n",
            "Epoch 8/50\n",
            "\u001b[1m143/143\u001b[0m \u001b[32m━━━━━━━━━━━━━━━━━━━━\u001b[0m\u001b[37m\u001b[0m \u001b[1m1s\u001b[0m 3ms/step - loss: 0.5169 - val_loss: 0.5491\n",
            "Epoch 9/50\n",
            "\u001b[1m143/143\u001b[0m \u001b[32m━━━━━━━━━━━━━━━━━━━━\u001b[0m\u001b[37m\u001b[0m \u001b[1m1s\u001b[0m 3ms/step - loss: 0.5282 - val_loss: 0.5293\n",
            "Epoch 10/50\n",
            "\u001b[1m143/143\u001b[0m \u001b[32m━━━━━━━━━━━━━━━━━━━━\u001b[0m\u001b[37m\u001b[0m \u001b[1m1s\u001b[0m 4ms/step - loss: 0.4984 - val_loss: 0.5273\n",
            "Epoch 11/50\n",
            "\u001b[1m143/143\u001b[0m \u001b[32m━━━━━━━━━━━━━━━━━━━━\u001b[0m\u001b[37m\u001b[0m \u001b[1m1s\u001b[0m 4ms/step - loss: 0.4995 - val_loss: 0.5232\n",
            "Epoch 12/50\n",
            "\u001b[1m143/143\u001b[0m \u001b[32m━━━━━━━━━━━━━━━━━━━━\u001b[0m\u001b[37m\u001b[0m \u001b[1m1s\u001b[0m 4ms/step - loss: 0.4894 - val_loss: 0.5222\n",
            "Epoch 13/50\n",
            "\u001b[1m143/143\u001b[0m \u001b[32m━━━━━━━━━━━━━━━━━━━━\u001b[0m\u001b[37m\u001b[0m \u001b[1m1s\u001b[0m 4ms/step - loss: 0.5041 - val_loss: 0.5200\n",
            "Epoch 14/50\n",
            "\u001b[1m143/143\u001b[0m \u001b[32m━━━━━━━━━━━━━━━━━━━━\u001b[0m\u001b[37m\u001b[0m \u001b[1m1s\u001b[0m 3ms/step - loss: 0.4957 - val_loss: 0.5174\n",
            "Epoch 15/50\n",
            "\u001b[1m143/143\u001b[0m \u001b[32m━━━━━━━━━━━━━━━━━━━━\u001b[0m\u001b[37m\u001b[0m \u001b[1m1s\u001b[0m 4ms/step - loss: 0.4833 - val_loss: 0.5153\n",
            "Epoch 16/50\n",
            "\u001b[1m143/143\u001b[0m \u001b[32m━━━━━━━━━━━━━━━━━━━━\u001b[0m\u001b[37m\u001b[0m \u001b[1m1s\u001b[0m 3ms/step - loss: 0.4903 - val_loss: 0.5132\n",
            "Epoch 17/50\n",
            "\u001b[1m143/143\u001b[0m \u001b[32m━━━━━━━━━━━━━━━━━━━━\u001b[0m\u001b[37m\u001b[0m \u001b[1m1s\u001b[0m 4ms/step - loss: 0.4813 - val_loss: 0.5130\n",
            "Epoch 18/50\n",
            "\u001b[1m143/143\u001b[0m \u001b[32m━━━━━━━━━━━━━━━━━━━━\u001b[0m\u001b[37m\u001b[0m \u001b[1m1s\u001b[0m 3ms/step - loss: 0.5061 - val_loss: 0.5129\n",
            "Epoch 19/50\n",
            "\u001b[1m143/143\u001b[0m \u001b[32m━━━━━━━━━━━━━━━━━━━━\u001b[0m\u001b[37m\u001b[0m \u001b[1m0s\u001b[0m 3ms/step - loss: 0.4850 - val_loss: 0.5120\n",
            "Epoch 20/50\n",
            "\u001b[1m143/143\u001b[0m \u001b[32m━━━━━━━━━━━━━━━━━━━━\u001b[0m\u001b[37m\u001b[0m \u001b[1m1s\u001b[0m 3ms/step - loss: 0.4706 - val_loss: 0.5121\n",
            "Epoch 21/50\n",
            "\u001b[1m143/143\u001b[0m \u001b[32m━━━━━━━━━━━━━━━━━━━━\u001b[0m\u001b[37m\u001b[0m \u001b[1m0s\u001b[0m 2ms/step - loss: 0.4774 - val_loss: 0.5194\n",
            "Epoch 22/50\n",
            "\u001b[1m143/143\u001b[0m \u001b[32m━━━━━━━━━━━━━━━━━━━━\u001b[0m\u001b[37m\u001b[0m \u001b[1m0s\u001b[0m 3ms/step - loss: 0.4962 - val_loss: 0.5168\n",
            "Epoch 23/50\n",
            "\u001b[1m143/143\u001b[0m \u001b[32m━━━━━━━━━━━━━━━━━━━━\u001b[0m\u001b[37m\u001b[0m \u001b[1m1s\u001b[0m 3ms/step - loss: 0.4742 - val_loss: 0.5101\n",
            "Epoch 24/50\n",
            "\u001b[1m143/143\u001b[0m \u001b[32m━━━━━━━━━━━━━━━━━━━━\u001b[0m\u001b[37m\u001b[0m \u001b[1m1s\u001b[0m 4ms/step - loss: 0.4632 - val_loss: 0.5116\n",
            "Epoch 25/50\n",
            "\u001b[1m143/143\u001b[0m \u001b[32m━━━━━━━━━━━━━━━━━━━━\u001b[0m\u001b[37m\u001b[0m \u001b[1m0s\u001b[0m 3ms/step - loss: 0.4666 - val_loss: 0.5102\n",
            "Epoch 26/50\n",
            "\u001b[1m143/143\u001b[0m \u001b[32m━━━━━━━━━━━━━━━━━━━━\u001b[0m\u001b[37m\u001b[0m \u001b[1m1s\u001b[0m 4ms/step - loss: 0.4871 - val_loss: 0.5107\n",
            "Epoch 27/50\n",
            "\u001b[1m143/143\u001b[0m \u001b[32m━━━━━━━━━━━━━━━━━━━━\u001b[0m\u001b[37m\u001b[0m \u001b[1m1s\u001b[0m 3ms/step - loss: 0.4741 - val_loss: 0.5197\n",
            "Epoch 28/50\n",
            "\u001b[1m143/143\u001b[0m \u001b[32m━━━━━━━━━━━━━━━━━━━━\u001b[0m\u001b[37m\u001b[0m \u001b[1m1s\u001b[0m 3ms/step - loss: 0.4534 - val_loss: 0.5216\n",
            "Epoch 29/50\n",
            "\u001b[1m143/143\u001b[0m \u001b[32m━━━━━━━━━━━━━━━━━━━━\u001b[0m\u001b[37m\u001b[0m \u001b[1m0s\u001b[0m 3ms/step - loss: 0.4604 - val_loss: 0.5218\n",
            "Epoch 30/50\n",
            "\u001b[1m143/143\u001b[0m \u001b[32m━━━━━━━━━━━━━━━━━━━━\u001b[0m\u001b[37m\u001b[0m \u001b[1m0s\u001b[0m 3ms/step - loss: 0.4562 - val_loss: 0.5237\n",
            "Epoch 31/50\n",
            "\u001b[1m143/143\u001b[0m \u001b[32m━━━━━━━━━━━━━━━━━━━━\u001b[0m\u001b[37m\u001b[0m \u001b[1m0s\u001b[0m 3ms/step - loss: 0.4524 - val_loss: 0.5194\n",
            "Epoch 32/50\n",
            "\u001b[1m143/143\u001b[0m \u001b[32m━━━━━━━━━━━━━━━━━━━━\u001b[0m\u001b[37m\u001b[0m \u001b[1m0s\u001b[0m 3ms/step - loss: 0.4474 - val_loss: 0.5141\n",
            "Epoch 33/50\n",
            "\u001b[1m143/143\u001b[0m \u001b[32m━━━━━━━━━━━━━━━━━━━━\u001b[0m\u001b[37m\u001b[0m \u001b[1m0s\u001b[0m 3ms/step - loss: 0.4426 - val_loss: 0.5175\n"
          ]
        },
        {
          "data": {
            "text/plain": [
              "<keras.src.callbacks.history.History at 0x227866f1eb0>"
            ]
          },
          "execution_count": 187,
          "metadata": {},
          "output_type": "execute_result"
        }
      ],
      "source": [
        "model = Sequential()\n",
        "\n",
        "model.add(Input(shape=(feature_count,)))\n",
        "model.add(Dense(4, activation='relu',kernel_regularizer=regularizers.l2(0.01))) # lambda of 0.001\n",
        "#model.add(Dropout(0.5))\n",
        "model.add(Dense(3, activation='relu',kernel_regularizer=regularizers.l2(0.01)))\n",
        "#model.add(Dropout(0.5))\n",
        "model.add(Dense(1, activation='linear'))\n",
        "\n",
        "model.compile(optimizer='adam', loss='mean_squared_error')\n",
        "\n",
        "model.summary()\n",
        "early_stopping = EarlyStopping(monitor='val_loss', patience=10, restore_best_weights=True)\n",
        "model.fit(Xtrain, ytrain, epochs=50, batch_size=16, validation_split=0.2, callbacks=[early_stopping])"
      ]
    },
    {
      "cell_type": "code",
      "execution_count": null,
      "id": "7f46eccb-5769-462d-8522-06afd37ea6ab",
      "metadata": {
        "id": "7f46eccb-5769-462d-8522-06afd37ea6ab",
        "outputId": "6d1a983a-5f0e-4120-dd1b-c167eb9371d3"
      },
      "outputs": [
        {
          "name": "stdout",
          "output_type": "stream",
          "text": [
            "\u001b[1m90/90\u001b[0m \u001b[32m━━━━━━━━━━━━━━━━━━━━\u001b[0m\u001b[37m\u001b[0m \u001b[1m0s\u001b[0m 2ms/step\n",
            "\u001b[1m10/10\u001b[0m \u001b[32m━━━━━━━━━━━━━━━━━━━━\u001b[0m\u001b[37m\u001b[0m \u001b[1m0s\u001b[0m 2ms/step \n",
            "Train MSE  0.45675475318602965\n",
            "Test MSE  0.4385768878456747\n"
          ]
        }
      ],
      "source": [
        "ytrainpred = model.predict(Xtrain)\n",
        "ytestpred = model.predict(Xtest)\n",
        "print(\"Train MSE \", mean_squared_error(ytrain, ytrainpred))\n",
        "print(\"Test MSE \", mean_squared_error(ytest, ytestpred))"
      ]
    },
    {
      "cell_type": "code",
      "execution_count": null,
      "id": "80cacb26-9272-4701-b5e1-892409a10331",
      "metadata": {
        "id": "80cacb26-9272-4701-b5e1-892409a10331",
        "outputId": "68da777b-fe47-48f7-f169-a1a8ffe7342c"
      },
      "outputs": [
        {
          "data": {
            "text/html": [
              "<pre style=\"white-space:pre;overflow-x:auto;line-height:normal;font-family:Menlo,'DejaVu Sans Mono',consolas,'Courier New',monospace\"><span style=\"font-weight: bold\">Model: \"sequential_40\"</span>\n",
              "</pre>\n"
            ],
            "text/plain": [
              "\u001b[1mModel: \"sequential_40\"\u001b[0m\n"
            ]
          },
          "metadata": {},
          "output_type": "display_data"
        },
        {
          "data": {
            "text/html": [
              "<pre style=\"white-space:pre;overflow-x:auto;line-height:normal;font-family:Menlo,'DejaVu Sans Mono',consolas,'Courier New',monospace\">┏━━━━━━━━━━━━━━━━━━━━━━━━━━━━━━━━━━━━━━┳━━━━━━━━━━━━━━━━━━━━━━━━━━━━━┳━━━━━━━━━━━━━━━━━┓\n",
              "┃<span style=\"font-weight: bold\"> Layer (type)                         </span>┃<span style=\"font-weight: bold\"> Output Shape                </span>┃<span style=\"font-weight: bold\">         Param # </span>┃\n",
              "┡━━━━━━━━━━━━━━━━━━━━━━━━━━━━━━━━━━━━━━╇━━━━━━━━━━━━━━━━━━━━━━━━━━━━━╇━━━━━━━━━━━━━━━━━┩\n",
              "│ dense_122 (<span style=\"color: #0087ff; text-decoration-color: #0087ff\">Dense</span>)                    │ (<span style=\"color: #00d7ff; text-decoration-color: #00d7ff\">None</span>, <span style=\"color: #00af00; text-decoration-color: #00af00\">4</span>)                   │             <span style=\"color: #00af00; text-decoration-color: #00af00\">340</span> │\n",
              "├──────────────────────────────────────┼─────────────────────────────┼─────────────────┤\n",
              "│ dense_123 (<span style=\"color: #0087ff; text-decoration-color: #0087ff\">Dense</span>)                    │ (<span style=\"color: #00d7ff; text-decoration-color: #00d7ff\">None</span>, <span style=\"color: #00af00; text-decoration-color: #00af00\">3</span>)                   │              <span style=\"color: #00af00; text-decoration-color: #00af00\">15</span> │\n",
              "├──────────────────────────────────────┼─────────────────────────────┼─────────────────┤\n",
              "│ dense_124 (<span style=\"color: #0087ff; text-decoration-color: #0087ff\">Dense</span>)                    │ (<span style=\"color: #00d7ff; text-decoration-color: #00d7ff\">None</span>, <span style=\"color: #00af00; text-decoration-color: #00af00\">1</span>)                   │               <span style=\"color: #00af00; text-decoration-color: #00af00\">4</span> │\n",
              "└──────────────────────────────────────┴─────────────────────────────┴─────────────────┘\n",
              "</pre>\n"
            ],
            "text/plain": [
              "┏━━━━━━━━━━━━━━━━━━━━━━━━━━━━━━━━━━━━━━┳━━━━━━━━━━━━━━━━━━━━━━━━━━━━━┳━━━━━━━━━━━━━━━━━┓\n",
              "┃\u001b[1m \u001b[0m\u001b[1mLayer (type)                        \u001b[0m\u001b[1m \u001b[0m┃\u001b[1m \u001b[0m\u001b[1mOutput Shape               \u001b[0m\u001b[1m \u001b[0m┃\u001b[1m \u001b[0m\u001b[1m        Param #\u001b[0m\u001b[1m \u001b[0m┃\n",
              "┡━━━━━━━━━━━━━━━━━━━━━━━━━━━━━━━━━━━━━━╇━━━━━━━━━━━━━━━━━━━━━━━━━━━━━╇━━━━━━━━━━━━━━━━━┩\n",
              "│ dense_122 (\u001b[38;5;33mDense\u001b[0m)                    │ (\u001b[38;5;45mNone\u001b[0m, \u001b[38;5;34m4\u001b[0m)                   │             \u001b[38;5;34m340\u001b[0m │\n",
              "├──────────────────────────────────────┼─────────────────────────────┼─────────────────┤\n",
              "│ dense_123 (\u001b[38;5;33mDense\u001b[0m)                    │ (\u001b[38;5;45mNone\u001b[0m, \u001b[38;5;34m3\u001b[0m)                   │              \u001b[38;5;34m15\u001b[0m │\n",
              "├──────────────────────────────────────┼─────────────────────────────┼─────────────────┤\n",
              "│ dense_124 (\u001b[38;5;33mDense\u001b[0m)                    │ (\u001b[38;5;45mNone\u001b[0m, \u001b[38;5;34m1\u001b[0m)                   │               \u001b[38;5;34m4\u001b[0m │\n",
              "└──────────────────────────────────────┴─────────────────────────────┴─────────────────┘\n"
            ]
          },
          "metadata": {},
          "output_type": "display_data"
        },
        {
          "data": {
            "text/html": [
              "<pre style=\"white-space:pre;overflow-x:auto;line-height:normal;font-family:Menlo,'DejaVu Sans Mono',consolas,'Courier New',monospace\"><span style=\"font-weight: bold\"> Total params: </span><span style=\"color: #00af00; text-decoration-color: #00af00\">1,079</span> (4.22 KB)\n",
              "</pre>\n"
            ],
            "text/plain": [
              "\u001b[1m Total params: \u001b[0m\u001b[38;5;34m1,079\u001b[0m (4.22 KB)\n"
            ]
          },
          "metadata": {},
          "output_type": "display_data"
        },
        {
          "data": {
            "text/html": [
              "<pre style=\"white-space:pre;overflow-x:auto;line-height:normal;font-family:Menlo,'DejaVu Sans Mono',consolas,'Courier New',monospace\"><span style=\"font-weight: bold\"> Trainable params: </span><span style=\"color: #00af00; text-decoration-color: #00af00\">359</span> (1.40 KB)\n",
              "</pre>\n"
            ],
            "text/plain": [
              "\u001b[1m Trainable params: \u001b[0m\u001b[38;5;34m359\u001b[0m (1.40 KB)\n"
            ]
          },
          "metadata": {},
          "output_type": "display_data"
        },
        {
          "data": {
            "text/html": [
              "<pre style=\"white-space:pre;overflow-x:auto;line-height:normal;font-family:Menlo,'DejaVu Sans Mono',consolas,'Courier New',monospace\"><span style=\"font-weight: bold\"> Non-trainable params: </span><span style=\"color: #00af00; text-decoration-color: #00af00\">0</span> (0.00 B)\n",
              "</pre>\n"
            ],
            "text/plain": [
              "\u001b[1m Non-trainable params: \u001b[0m\u001b[38;5;34m0\u001b[0m (0.00 B)\n"
            ]
          },
          "metadata": {},
          "output_type": "display_data"
        },
        {
          "data": {
            "text/html": [
              "<pre style=\"white-space:pre;overflow-x:auto;line-height:normal;font-family:Menlo,'DejaVu Sans Mono',consolas,'Courier New',monospace\"><span style=\"font-weight: bold\"> Optimizer params: </span><span style=\"color: #00af00; text-decoration-color: #00af00\">720</span> (2.82 KB)\n",
              "</pre>\n"
            ],
            "text/plain": [
              "\u001b[1m Optimizer params: \u001b[0m\u001b[38;5;34m720\u001b[0m (2.82 KB)\n"
            ]
          },
          "metadata": {},
          "output_type": "display_data"
        }
      ],
      "source": [
        "model.summary()"
      ]
    },
    {
      "cell_type": "code",
      "execution_count": null,
      "id": "364625e7-dfac-4064-b8d6-f018460fc7a6",
      "metadata": {
        "id": "364625e7-dfac-4064-b8d6-f018460fc7a6"
      },
      "outputs": [],
      "source": []
    },
    {
      "cell_type": "markdown",
      "id": "f85626a8-e586-4600-a3e9-027575be88f9",
      "metadata": {
        "id": "f85626a8-e586-4600-a3e9-027575be88f9"
      },
      "source": [
        "### An \"ensemble\" neural net"
      ]
    },
    {
      "cell_type": "markdown",
      "id": "e05e93a0-a2eb-4192-87d1-a53321968fda",
      "metadata": {
        "id": "e05e93a0-a2eb-4192-87d1-a53321968fda"
      },
      "source": [
        "This is much harder to configure; I believe it will mostly do worse than a normal prediction."
      ]
    },
    {
      "cell_type": "code",
      "execution_count": null,
      "id": "31a49897-d68b-4284-9d91-f9bf15b81eaa",
      "metadata": {
        "id": "31a49897-d68b-4284-9d91-f9bf15b81eaa",
        "outputId": "1332777e-0a1a-4224-b440-615426d423b5"
      },
      "outputs": [
        {
          "data": {
            "text/plain": [
              "Index(['PCIAT-PCIAT_01', 'PCIAT-PCIAT_02', 'PCIAT-PCIAT_03', 'PCIAT-PCIAT_04',\n",
              "       'PCIAT-PCIAT_05', 'PCIAT-PCIAT_06', 'PCIAT-PCIAT_07', 'PCIAT-PCIAT_08',\n",
              "       'PCIAT-PCIAT_09', 'PCIAT-PCIAT_10', 'PCIAT-PCIAT_11', 'PCIAT-PCIAT_12',\n",
              "       'PCIAT-PCIAT_13', 'PCIAT-PCIAT_14', 'PCIAT-PCIAT_15', 'PCIAT-PCIAT_16',\n",
              "       'PCIAT-PCIAT_17', 'PCIAT-PCIAT_18', 'PCIAT-PCIAT_19', 'PCIAT-PCIAT_20'],\n",
              "      dtype='object')"
            ]
          },
          "execution_count": 198,
          "metadata": {},
          "output_type": "execute_result"
        }
      ],
      "source": [
        "pciat_cols.drop('PCIAT-PCIAT_Total')"
      ]
    },
    {
      "cell_type": "code",
      "execution_count": null,
      "id": "5019e780-e474-41c5-943e-d1b9e9107c16",
      "metadata": {
        "id": "5019e780-e474-41c5-943e-d1b9e9107c16"
      },
      "outputs": [],
      "source": [
        "ytrain2 = dfTrain[pciat_cols.drop('PCIAT-PCIAT_Total')]\n",
        "ytest2 = dfTest[pciat_cols.drop('PCIAT-PCIAT_Total')]"
      ]
    },
    {
      "cell_type": "code",
      "execution_count": null,
      "id": "339edb07-d749-495a-87d0-c35b716b8909",
      "metadata": {
        "id": "339edb07-d749-495a-87d0-c35b716b8909"
      },
      "outputs": [],
      "source": [
        "def pred_sii(x):\n",
        "    score_sum = sum(x)\n",
        "\n",
        "    # Map the sum to a category (0, 1, 2, or 3)\n",
        "    if score_sum <= 30:\n",
        "        return 0\n",
        "    elif score_sum <= 49:\n",
        "        return 1\n",
        "    elif score_sum <= 79:\n",
        "        return 2\n",
        "    else:\n",
        "        return 3"
      ]
    },
    {
      "cell_type": "code",
      "execution_count": null,
      "id": "2fed5339-724c-4c67-8289-317b10dec79f",
      "metadata": {
        "id": "2fed5339-724c-4c67-8289-317b10dec79f",
        "outputId": "cb702b1d-6fff-4adf-bbfd-37d86679e239"
      },
      "outputs": [
        {
          "data": {
            "text/html": [
              "<pre style=\"white-space:pre;overflow-x:auto;line-height:normal;font-family:Menlo,'DejaVu Sans Mono',consolas,'Courier New',monospace\"><span style=\"font-weight: bold\">Model: \"sequential_44\"</span>\n",
              "</pre>\n"
            ],
            "text/plain": [
              "\u001b[1mModel: \"sequential_44\"\u001b[0m\n"
            ]
          },
          "metadata": {},
          "output_type": "display_data"
        },
        {
          "data": {
            "text/html": [
              "<pre style=\"white-space:pre;overflow-x:auto;line-height:normal;font-family:Menlo,'DejaVu Sans Mono',consolas,'Courier New',monospace\">┏━━━━━━━━━━━━━━━━━━━━━━━━━━━━━━━━━━━━━━┳━━━━━━━━━━━━━━━━━━━━━━━━━━━━━┳━━━━━━━━━━━━━━━━━┓\n",
              "┃<span style=\"font-weight: bold\"> Layer (type)                         </span>┃<span style=\"font-weight: bold\"> Output Shape                </span>┃<span style=\"font-weight: bold\">         Param # </span>┃\n",
              "┡━━━━━━━━━━━━━━━━━━━━━━━━━━━━━━━━━━━━━━╇━━━━━━━━━━━━━━━━━━━━━━━━━━━━━╇━━━━━━━━━━━━━━━━━┩\n",
              "│ dense_135 (<span style=\"color: #0087ff; text-decoration-color: #0087ff\">Dense</span>)                    │ (<span style=\"color: #00d7ff; text-decoration-color: #00d7ff\">None</span>, <span style=\"color: #00af00; text-decoration-color: #00af00\">8</span>)                   │             <span style=\"color: #00af00; text-decoration-color: #00af00\">680</span> │\n",
              "├──────────────────────────────────────┼─────────────────────────────┼─────────────────┤\n",
              "│ dense_136 (<span style=\"color: #0087ff; text-decoration-color: #0087ff\">Dense</span>)                    │ (<span style=\"color: #00d7ff; text-decoration-color: #00d7ff\">None</span>, <span style=\"color: #00af00; text-decoration-color: #00af00\">4</span>)                   │              <span style=\"color: #00af00; text-decoration-color: #00af00\">36</span> │\n",
              "├──────────────────────────────────────┼─────────────────────────────┼─────────────────┤\n",
              "│ dense_137 (<span style=\"color: #0087ff; text-decoration-color: #0087ff\">Dense</span>)                    │ (<span style=\"color: #00d7ff; text-decoration-color: #00d7ff\">None</span>, <span style=\"color: #00af00; text-decoration-color: #00af00\">2</span>)                   │              <span style=\"color: #00af00; text-decoration-color: #00af00\">10</span> │\n",
              "├──────────────────────────────────────┼─────────────────────────────┼─────────────────┤\n",
              "│ dense_138 (<span style=\"color: #0087ff; text-decoration-color: #0087ff\">Dense</span>)                    │ (<span style=\"color: #00d7ff; text-decoration-color: #00d7ff\">None</span>, <span style=\"color: #00af00; text-decoration-color: #00af00\">20</span>)                  │              <span style=\"color: #00af00; text-decoration-color: #00af00\">60</span> │\n",
              "└──────────────────────────────────────┴─────────────────────────────┴─────────────────┘\n",
              "</pre>\n"
            ],
            "text/plain": [
              "┏━━━━━━━━━━━━━━━━━━━━━━━━━━━━━━━━━━━━━━┳━━━━━━━━━━━━━━━━━━━━━━━━━━━━━┳━━━━━━━━━━━━━━━━━┓\n",
              "┃\u001b[1m \u001b[0m\u001b[1mLayer (type)                        \u001b[0m\u001b[1m \u001b[0m┃\u001b[1m \u001b[0m\u001b[1mOutput Shape               \u001b[0m\u001b[1m \u001b[0m┃\u001b[1m \u001b[0m\u001b[1m        Param #\u001b[0m\u001b[1m \u001b[0m┃\n",
              "┡━━━━━━━━━━━━━━━━━━━━━━━━━━━━━━━━━━━━━━╇━━━━━━━━━━━━━━━━━━━━━━━━━━━━━╇━━━━━━━━━━━━━━━━━┩\n",
              "│ dense_135 (\u001b[38;5;33mDense\u001b[0m)                    │ (\u001b[38;5;45mNone\u001b[0m, \u001b[38;5;34m8\u001b[0m)                   │             \u001b[38;5;34m680\u001b[0m │\n",
              "├──────────────────────────────────────┼─────────────────────────────┼─────────────────┤\n",
              "│ dense_136 (\u001b[38;5;33mDense\u001b[0m)                    │ (\u001b[38;5;45mNone\u001b[0m, \u001b[38;5;34m4\u001b[0m)                   │              \u001b[38;5;34m36\u001b[0m │\n",
              "├──────────────────────────────────────┼─────────────────────────────┼─────────────────┤\n",
              "│ dense_137 (\u001b[38;5;33mDense\u001b[0m)                    │ (\u001b[38;5;45mNone\u001b[0m, \u001b[38;5;34m2\u001b[0m)                   │              \u001b[38;5;34m10\u001b[0m │\n",
              "├──────────────────────────────────────┼─────────────────────────────┼─────────────────┤\n",
              "│ dense_138 (\u001b[38;5;33mDense\u001b[0m)                    │ (\u001b[38;5;45mNone\u001b[0m, \u001b[38;5;34m20\u001b[0m)                  │              \u001b[38;5;34m60\u001b[0m │\n",
              "└──────────────────────────────────────┴─────────────────────────────┴─────────────────┘\n"
            ]
          },
          "metadata": {},
          "output_type": "display_data"
        },
        {
          "data": {
            "text/html": [
              "<pre style=\"white-space:pre;overflow-x:auto;line-height:normal;font-family:Menlo,'DejaVu Sans Mono',consolas,'Courier New',monospace\"><span style=\"font-weight: bold\"> Total params: </span><span style=\"color: #00af00; text-decoration-color: #00af00\">786</span> (3.07 KB)\n",
              "</pre>\n"
            ],
            "text/plain": [
              "\u001b[1m Total params: \u001b[0m\u001b[38;5;34m786\u001b[0m (3.07 KB)\n"
            ]
          },
          "metadata": {},
          "output_type": "display_data"
        },
        {
          "data": {
            "text/html": [
              "<pre style=\"white-space:pre;overflow-x:auto;line-height:normal;font-family:Menlo,'DejaVu Sans Mono',consolas,'Courier New',monospace\"><span style=\"font-weight: bold\"> Trainable params: </span><span style=\"color: #00af00; text-decoration-color: #00af00\">786</span> (3.07 KB)\n",
              "</pre>\n"
            ],
            "text/plain": [
              "\u001b[1m Trainable params: \u001b[0m\u001b[38;5;34m786\u001b[0m (3.07 KB)\n"
            ]
          },
          "metadata": {},
          "output_type": "display_data"
        },
        {
          "data": {
            "text/html": [
              "<pre style=\"white-space:pre;overflow-x:auto;line-height:normal;font-family:Menlo,'DejaVu Sans Mono',consolas,'Courier New',monospace\"><span style=\"font-weight: bold\"> Non-trainable params: </span><span style=\"color: #00af00; text-decoration-color: #00af00\">0</span> (0.00 B)\n",
              "</pre>\n"
            ],
            "text/plain": [
              "\u001b[1m Non-trainable params: \u001b[0m\u001b[38;5;34m0\u001b[0m (0.00 B)\n"
            ]
          },
          "metadata": {},
          "output_type": "display_data"
        },
        {
          "name": "stdout",
          "output_type": "stream",
          "text": [
            "Epoch 1/50\n",
            "\u001b[1m143/143\u001b[0m \u001b[32m━━━━━━━━━━━━━━━━━━━━\u001b[0m\u001b[37m\u001b[0m \u001b[1m4s\u001b[0m 5ms/step - loss: 3.5763 - val_loss: 2.6255\n",
            "Epoch 2/50\n",
            "\u001b[1m143/143\u001b[0m \u001b[32m━━━━━━━━━━━━━━━━━━━━\u001b[0m\u001b[37m\u001b[0m \u001b[1m1s\u001b[0m 3ms/step - loss: 2.2722 - val_loss: 1.9066\n",
            "Epoch 3/50\n",
            "\u001b[1m143/143\u001b[0m \u001b[32m━━━━━━━━━━━━━━━━━━━━\u001b[0m\u001b[37m\u001b[0m \u001b[1m1s\u001b[0m 3ms/step - loss: 1.7248 - val_loss: 1.7994\n",
            "Epoch 4/50\n",
            "\u001b[1m143/143\u001b[0m \u001b[32m━━━━━━━━━━━━━━━━━━━━\u001b[0m\u001b[37m\u001b[0m \u001b[1m1s\u001b[0m 3ms/step - loss: 1.7203 - val_loss: 1.7857\n",
            "Epoch 5/50\n",
            "\u001b[1m143/143\u001b[0m \u001b[32m━━━━━━━━━━━━━━━━━━━━\u001b[0m\u001b[37m\u001b[0m \u001b[1m1s\u001b[0m 3ms/step - loss: 1.6761 - val_loss: 1.7800\n",
            "Epoch 6/50\n",
            "\u001b[1m143/143\u001b[0m \u001b[32m━━━━━━━━━━━━━━━━━━━━\u001b[0m\u001b[37m\u001b[0m \u001b[1m1s\u001b[0m 3ms/step - loss: 1.6992 - val_loss: 1.7759\n",
            "Epoch 7/50\n",
            "\u001b[1m143/143\u001b[0m \u001b[32m━━━━━━━━━━━━━━━━━━━━\u001b[0m\u001b[37m\u001b[0m \u001b[1m1s\u001b[0m 3ms/step - loss: 1.6899 - val_loss: 1.7771\n",
            "Epoch 8/50\n",
            "\u001b[1m143/143\u001b[0m \u001b[32m━━━━━━━━━━━━━━━━━━━━\u001b[0m\u001b[37m\u001b[0m \u001b[1m0s\u001b[0m 3ms/step - loss: 1.6943 - val_loss: 1.7733\n",
            "Epoch 9/50\n",
            "\u001b[1m143/143\u001b[0m \u001b[32m━━━━━━━━━━━━━━━━━━━━\u001b[0m\u001b[37m\u001b[0m \u001b[1m1s\u001b[0m 3ms/step - loss: 1.6680 - val_loss: 1.7696\n",
            "Epoch 10/50\n",
            "\u001b[1m143/143\u001b[0m \u001b[32m━━━━━━━━━━━━━━━━━━━━\u001b[0m\u001b[37m\u001b[0m \u001b[1m1s\u001b[0m 3ms/step - loss: 1.6567 - val_loss: 1.7692\n",
            "Epoch 11/50\n",
            "\u001b[1m143/143\u001b[0m \u001b[32m━━━━━━━━━━━━━━━━━━━━\u001b[0m\u001b[37m\u001b[0m \u001b[1m1s\u001b[0m 3ms/step - loss: 1.6603 - val_loss: 1.7688\n",
            "Epoch 12/50\n",
            "\u001b[1m143/143\u001b[0m \u001b[32m━━━━━━━━━━━━━━━━━━━━\u001b[0m\u001b[37m\u001b[0m \u001b[1m0s\u001b[0m 3ms/step - loss: 1.6909 - val_loss: 1.7675\n",
            "Epoch 13/50\n",
            "\u001b[1m143/143\u001b[0m \u001b[32m━━━━━━━━━━━━━━━━━━━━\u001b[0m\u001b[37m\u001b[0m \u001b[1m1s\u001b[0m 4ms/step - loss: 1.6406 - val_loss: 1.7646\n",
            "Epoch 14/50\n",
            "\u001b[1m143/143\u001b[0m \u001b[32m━━━━━━━━━━━━━━━━━━━━\u001b[0m\u001b[37m\u001b[0m \u001b[1m1s\u001b[0m 3ms/step - loss: 1.6599 - val_loss: 1.7695\n",
            "Epoch 15/50\n",
            "\u001b[1m143/143\u001b[0m \u001b[32m━━━━━━━━━━━━━━━━━━━━\u001b[0m\u001b[37m\u001b[0m \u001b[1m1s\u001b[0m 4ms/step - loss: 1.6294 - val_loss: 1.7664\n",
            "Epoch 16/50\n",
            "\u001b[1m143/143\u001b[0m \u001b[32m━━━━━━━━━━━━━━━━━━━━\u001b[0m\u001b[37m\u001b[0m \u001b[1m0s\u001b[0m 3ms/step - loss: 1.6630 - val_loss: 1.7660\n",
            "Epoch 17/50\n",
            "\u001b[1m143/143\u001b[0m \u001b[32m━━━━━━━━━━━━━━━━━━━━\u001b[0m\u001b[37m\u001b[0m \u001b[1m0s\u001b[0m 3ms/step - loss: 1.6584 - val_loss: 1.7703\n",
            "Epoch 18/50\n",
            "\u001b[1m143/143\u001b[0m \u001b[32m━━━━━━━━━━━━━━━━━━━━\u001b[0m\u001b[37m\u001b[0m \u001b[1m1s\u001b[0m 4ms/step - loss: 1.6592 - val_loss: 1.7665\n",
            "Epoch 19/50\n",
            "\u001b[1m143/143\u001b[0m \u001b[32m━━━━━━━━━━━━━━━━━━━━\u001b[0m\u001b[37m\u001b[0m \u001b[1m1s\u001b[0m 3ms/step - loss: 1.6647 - val_loss: 1.7652\n",
            "Epoch 20/50\n",
            "\u001b[1m143/143\u001b[0m \u001b[32m━━━━━━━━━━━━━━━━━━━━\u001b[0m\u001b[37m\u001b[0m \u001b[1m1s\u001b[0m 3ms/step - loss: 1.6358 - val_loss: 1.7673\n",
            "Epoch 21/50\n",
            "\u001b[1m143/143\u001b[0m \u001b[32m━━━━━━━━━━━━━━━━━━━━\u001b[0m\u001b[37m\u001b[0m \u001b[1m1s\u001b[0m 3ms/step - loss: 1.5861 - val_loss: 1.7685\n",
            "Epoch 22/50\n",
            "\u001b[1m143/143\u001b[0m \u001b[32m━━━━━━━━━━━━━━━━━━━━\u001b[0m\u001b[37m\u001b[0m \u001b[1m0s\u001b[0m 3ms/step - loss: 1.6327 - val_loss: 1.7672\n",
            "Epoch 23/50\n",
            "\u001b[1m143/143\u001b[0m \u001b[32m━━━━━━━━━━━━━━━━━━━━\u001b[0m\u001b[37m\u001b[0m \u001b[1m0s\u001b[0m 3ms/step - loss: 1.6184 - val_loss: 1.7727\n"
          ]
        },
        {
          "data": {
            "text/plain": [
              "<keras.src.callbacks.history.History at 0x22802484260>"
            ]
          },
          "execution_count": 220,
          "metadata": {},
          "output_type": "execute_result"
        }
      ],
      "source": [
        "# Build the model for predicting 20 test scores (each between 0 and 5)\n",
        "model = Sequential()\n",
        "\n",
        "model.add(Input(shape=(feature_count,)))\n",
        "model.add(Dense(8, activation='relu',kernel_regularizer=regularizers.l2(0.0001))) # lambda of 0.001\n",
        "#model.add(Dropout(0.5))\n",
        "model.add(Dense(4, activation='relu',kernel_regularizer=regularizers.l2(0.0001)))\n",
        "#model.add(Dropout(0.5))\n",
        "model.add(Dense(2, activation='relu',kernel_regularizer=regularizers.l2(0.0001)))\n",
        "\n",
        "# Output layer with 20 units (each representing a test score)\n",
        "model.add(Dense(20, activation='linear'))\n",
        "\n",
        "model.compile(optimizer='adam', loss='mean_squared_error')\n",
        "model.summary()\n",
        "\n",
        "early_stopping = EarlyStopping(monitor='val_loss', patience=10, restore_best_weights=True)\n",
        "model.fit(Xtrain, ytrain2, epochs=50, batch_size=16, validation_split=0.2, callbacks=[early_stopping])"
      ]
    },
    {
      "cell_type": "code",
      "execution_count": null,
      "id": "78ca822a-a15b-4fdf-830d-8833678373b8",
      "metadata": {
        "id": "78ca822a-a15b-4fdf-830d-8833678373b8",
        "outputId": "2f15b253-1b4e-481c-89c2-0c43a6f1de00"
      },
      "outputs": [
        {
          "name": "stdout",
          "output_type": "stream",
          "text": [
            "\u001b[1m90/90\u001b[0m \u001b[32m━━━━━━━━━━━━━━━━━━━━\u001b[0m\u001b[37m\u001b[0m \u001b[1m0s\u001b[0m 3ms/step\n",
            "\u001b[1m10/10\u001b[0m \u001b[32m━━━━━━━━━━━━━━━━━━━━\u001b[0m\u001b[37m\u001b[0m \u001b[1m0s\u001b[0m 2ms/step \n",
            "Train MSE  0.6257432668765303\n",
            "Test MSE  0.5583596214511041\n"
          ]
        }
      ],
      "source": [
        "ytrainpred = [pred_sii(x) for x in model.predict(Xtrain)]\n",
        "ytestpred = [pred_sii(x) for x in model.predict(Xtest)]\n",
        "print(\"Train MSE \", mean_squared_error(ytrain, ytrainpred))\n",
        "print(\"Test MSE \", mean_squared_error(ytest, ytestpred))"
      ]
    }
  ],
  "metadata": {
    "colab": {
      "provenance": []
    },
    "kernelspec": {
      "display_name": "Python 3 (ipykernel)",
      "language": "python",
      "name": "python3"
    },
    "language_info": {
      "codemirror_mode": {
        "name": "ipython",
        "version": 3
      },
      "file_extension": ".py",
      "mimetype": "text/x-python",
      "name": "python",
      "nbconvert_exporter": "python",
      "pygments_lexer": "ipython3",
      "version": "3.12.3"
    }
  },
  "nbformat": 4,
  "nbformat_minor": 5
}